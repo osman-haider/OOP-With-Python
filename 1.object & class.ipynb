{
 "cells": [
  {
   "cell_type": "code",
   "execution_count": 1,
   "id": "6bf09ac9-c0b6-46f5-a3a6-b1968a3d6650",
   "metadata": {},
   "outputs": [],
   "source": [
    "x = 6"
   ]
  },
  {
   "cell_type": "code",
   "execution_count": 3,
   "id": "3b4691ad-6426-417f-9bb0-785fd90106d9",
   "metadata": {},
   "outputs": [
    {
     "name": "stdout",
     "output_type": "stream",
     "text": [
      "<class 'int'>\n"
     ]
    }
   ],
   "source": [
    "print(type(x))"
   ]
  },
  {
   "cell_type": "markdown",
   "id": "58b3eafd-cf0c-4ed8-a3f4-e4707f35108c",
   "metadata": {},
   "source": [
    "## every thing in python in object"
   ]
  },
  {
   "cell_type": "code",
   "execution_count": 4,
   "id": "24f35fd5-5afd-4228-9987-44e8228d09eb",
   "metadata": {},
   "outputs": [],
   "source": [
    "class MyClass:\n",
    "    def __init__(self, attribute1, attribute2):\n",
    "        self.attribute1 = attribute1\n",
    "        self.attribute2 = attribute2\n",
    "\n",
    "    def some_method(self):\n",
    "        print(\"This is a method of MyClass\")"
   ]
  },
  {
   "cell_type": "code",
   "execution_count": 7,
   "id": "36bdb393-641c-49d0-8ef0-f6cb0f34ccb0",
   "metadata": {},
   "outputs": [
    {
     "name": "stdout",
     "output_type": "stream",
     "text": [
      "value1\n",
      "value2\n"
     ]
    }
   ],
   "source": [
    "# object is instence in class\n",
    "my_object = MyClass(\"value1\", \"value2\")\n",
    "\n",
    "print(my_object.attribute1)\n",
    "print(my_object.attribute2)"
   ]
  },
  {
   "cell_type": "code",
   "execution_count": 6,
   "id": "4589b7aa-b83c-414d-976d-1e70ba701a98",
   "metadata": {},
   "outputs": [
    {
     "name": "stdout",
     "output_type": "stream",
     "text": [
      "This is a method of MyClass\n"
     ]
    }
   ],
   "source": [
    "# Calling a method of the object\n",
    "my_object.some_method()"
   ]
  },
  {
   "cell_type": "code",
   "execution_count": null,
   "id": "95f49d1e-7f40-4ac8-9087-e242132d6815",
   "metadata": {},
   "outputs": [],
   "source": []
  }
 ],
 "metadata": {
  "kernelspec": {
   "display_name": "Python 3 (ipykernel)",
   "language": "python",
   "name": "python3"
  },
  "language_info": {
   "codemirror_mode": {
    "name": "ipython",
    "version": 3
   },
   "file_extension": ".py",
   "mimetype": "text/x-python",
   "name": "python",
   "nbconvert_exporter": "python",
   "pygments_lexer": "ipython3",
   "version": "3.10.7"
  }
 },
 "nbformat": 4,
 "nbformat_minor": 5
}
