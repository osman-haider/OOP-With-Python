{
 "cells": [
  {
   "cell_type": "code",
   "execution_count": 1,
   "id": "ff4beb37-1758-4138-88b0-ea3eaa28a0d9",
   "metadata": {},
   "outputs": [],
   "source": [
    "class Fb:\n",
    "    #Constructor\n",
    "    def __init__(self):\n",
    "        self.username = \"\"\n",
    "        self.password = \"\"\n",
    "        print(id(self))\n",
    "        self.menu()\n",
    "\n",
    "    def menu(self):\n",
    "        user_input = input(\"\"\"\n",
    "        We hope you are doing well,\n",
    "        1. Enter 1 for signup\n",
    "        2. Enter 2 for login\n",
    "        3. Enter 3 for changepassword\n",
    "        4. Enter 4 for deleteaccount\n",
    "        \"\"\")\n",
    "\n",
    "        if user_input == \"1\":\n",
    "            self.signup()\n",
    "        if user_input == \"2\":\n",
    "            self.login()\n",
    "        if user_input == \"3\":\n",
    "            self.passwordchange()\n",
    "        if user_input == \"4\":\n",
    "            self.deleteaccount()\n",
    "        else:\n",
    "            print(\"Bye\")\n",
    "\n",
    "    def signup(self):\n",
    "        user_name = input(\"enter your username\")\n",
    "        password = input(\"enter your password\")\n",
    "        if user_name == self.username:\n",
    "            print(\"This username is already exist\")\n",
    "        else:\n",
    "            self.username = user_name\n",
    "            self.password = password\n",
    "            print(\"Signup successfully\")\n",
    "        \n",
    "    def login(self):\n",
    "        user_name = input(\"enter your username\")\n",
    "        password = input(\"enter your password\")\n",
    "        if user_name == self.username and password == self.password:\n",
    "            print(\"You are login now\")\n",
    "        else:\n",
    "            print(\"Wrong username or password\")\n",
    "\n",
    "    def passwordchange(self):\n",
    "        user_name = input(\"enter your username\")\n",
    "        password = input(\"enter your old password\")\n",
    "        if user_name == self.username and password == self.password:\n",
    "            password = input(\"enter your new password\")\n",
    "            self.password = password\n",
    "        else:\n",
    "            print(\"Wrong username or password\")\n",
    "\n",
    "    def deleteaccount(self):\n",
    "        user_name = input(\"enter your username\")\n",
    "        password = input(\"enter your password\")\n",
    "        if user_name == self.username and password == self.password:\n",
    "            self.username = \"\"\n",
    "            self.password = \"\"\n",
    "            print(\"Your account is deleted\")\n",
    "        else:\n",
    "            print(\"Wrong username or password\")"
   ]
  },
  {
   "cell_type": "code",
   "execution_count": 2,
   "id": "35b39b3c-a78f-4f96-b94e-8a5f03fd6ef6",
   "metadata": {},
   "outputs": [
    {
     "name": "stdout",
     "output_type": "stream",
     "text": [
      "2049159727040\n"
     ]
    },
    {
     "name": "stdin",
     "output_type": "stream",
     "text": [
      "\n",
      "        We hope you are doing well,\n",
      "        1. Enter 1 for signup\n",
      "        2. Enter 2 for login\n",
      "        3. Enter 3 for changepassword\n",
      "        4. Enter 4 for deleteaccount\n",
      "         6\n"
     ]
    },
    {
     "name": "stdout",
     "output_type": "stream",
     "text": [
      "Bye\n"
     ]
    }
   ],
   "source": [
    "user1 = Fb() # just note the id"
   ]
  },
  {
   "cell_type": "code",
   "execution_count": 3,
   "id": "db545ad1-c63b-4ddb-aeee-bf1688d03b6d",
   "metadata": {},
   "outputs": [
    {
     "data": {
      "text/plain": [
       "2049159727040"
      ]
     },
     "execution_count": 3,
     "metadata": {},
     "output_type": "execute_result"
    }
   ],
   "source": [
    "id(user1)"
   ]
  },
  {
   "cell_type": "markdown",
   "id": "28969187-1591-43ee-92dc-165bb3d817d1",
   "metadata": {},
   "source": [
    "## id(self) == id(user1) \n",
    "### it means self is a user1"
   ]
  },
  {
   "cell_type": "code",
   "execution_count": 4,
   "id": "6aa6465d-0993-4d33-874f-a340b908ee01",
   "metadata": {},
   "outputs": [
    {
     "name": "stdout",
     "output_type": "stream",
     "text": [
      "2049159727664\n"
     ]
    },
    {
     "name": "stdin",
     "output_type": "stream",
     "text": [
      "\n",
      "        We hope you are doing well,\n",
      "        1. Enter 1 for signup\n",
      "        2. Enter 2 for login\n",
      "        3. Enter 3 for changepassword\n",
      "        4. Enter 4 for deleteaccount\n",
      "         6\n"
     ]
    },
    {
     "name": "stdout",
     "output_type": "stream",
     "text": [
      "Bye\n"
     ]
    }
   ],
   "source": [
    "user2 = Fb()"
   ]
  },
  {
   "cell_type": "code",
   "execution_count": 5,
   "id": "8139cf6f-8bac-4ef7-8628-b1c3ccff7fc6",
   "metadata": {},
   "outputs": [
    {
     "data": {
      "text/plain": [
       "2049159727664"
      ]
     },
     "execution_count": 5,
     "metadata": {},
     "output_type": "execute_result"
    }
   ],
   "source": [
    "id(user2)"
   ]
  },
  {
   "cell_type": "code",
   "execution_count": 6,
   "id": "ec60476b-52f0-469c-803f-a3edc1da6311",
   "metadata": {},
   "outputs": [],
   "source": [
    "## id of self and user2 is same"
   ]
  },
  {
   "cell_type": "markdown",
   "id": "d71f239d-2e0a-4d14-a3f0-7a123245610f",
   "metadata": {},
   "source": [
    "## On which object we are currently working is called self"
   ]
  },
  {
   "cell_type": "markdown",
   "id": "c1682a8a-b421-4322-b652-88ae2cb21657",
   "metadata": {},
   "source": [
    "## in python when we call a method like this user1.method() then there is one default input is given and this input the object ,in our case it is user1, thats why every method in oop has self parameter"
   ]
  },
  {
   "cell_type": "markdown",
   "id": "45dcb632-df5e-463a-ad41-1bc489ca40ca",
   "metadata": {},
   "source": [
    "## in oop one method can't talk to the other method "
   ]
  },
  {
   "cell_type": "markdown",
   "id": "b94d76b0-6874-458f-b83b-24ec516cb430",
   "metadata": {},
   "source": [
    "## there is one and only object who can access both data and methods(all)"
   ]
  },
  {
   "cell_type": "code",
   "execution_count": null,
   "id": "022cfcdf-8eaf-4261-ac5c-fba65a8bba1a",
   "metadata": {},
   "outputs": [],
   "source": []
  }
 ],
 "metadata": {
  "kernelspec": {
   "display_name": "Python 3 (ipykernel)",
   "language": "python",
   "name": "python3"
  },
  "language_info": {
   "codemirror_mode": {
    "name": "ipython",
    "version": 3
   },
   "file_extension": ".py",
   "mimetype": "text/x-python",
   "name": "python",
   "nbconvert_exporter": "python",
   "pygments_lexer": "ipython3",
   "version": "3.10.7"
  }
 },
 "nbformat": 4,
 "nbformat_minor": 5
}
