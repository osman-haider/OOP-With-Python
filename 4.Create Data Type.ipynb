{
 "cells": [
  {
   "cell_type": "code",
   "execution_count": 40,
   "id": "381abc47-7bf6-4063-a1d5-b151060cd1be",
   "metadata": {},
   "outputs": [],
   "source": [
    "class Fraction:\n",
    "    def __init__(self,n,d):\n",
    "        self.num = n\n",
    "        self.dnum = d\n",
    "\n",
    "    # when we write print(object_name) then this magic function automatically execute\n",
    "    def __str__(self):\n",
    "        return \"{}/{}\".format(self.num,self.dnum)\n",
    "\n",
    "    # when we write print(ob1 + ob2) then this magic function automatically execute\n",
    "    def __add__(self,other):\n",
    "        tem_num = (self.num * other.dnum) + (other.num * self.dnum)\n",
    "        temp_dnum = self.dnum * other.dnum\n",
    "        \n",
    "        return \"{}/{}\".format(tem_num,temp_dnum)\n",
    "\n",
    "    # when we write print(ob1 - ob2) then this magic function automatically execute\n",
    "    def __sub__(self,other):\n",
    "        tem_num = (self.num * other.dnum) - (other.num * self.dnum)\n",
    "        temp_dnum = self.dnum * other.dnum\n",
    "        \n",
    "        return \"{}/{}\".format(tem_num,temp_dnum)\n",
    "\n",
    "    # when we write print(ob1 * ob2) then this magic function automatically execute\n",
    "    def __mul__(self,other):\n",
    "        tem_num = self.num * other.num\n",
    "        temp_dnum = self.dnum * other.dnum\n",
    "        \n",
    "        return \"{}/{}\".format(tem_num,temp_dnum)\n",
    "\n",
    "    # when we write print(ob1 / ob2) then this magic function automatically execute\n",
    "    def __truediv__(self,other):\n",
    "        new_num = other.dnum\n",
    "        new_dnum = other.num\n",
    "        \n",
    "        tem_num = self.num * new_num\n",
    "        temp_dnum = self.dnum * new_dnum\n",
    "        \n",
    "        return \"{}/{}\".format(tem_num,temp_dnum)"
   ]
  },
  {
   "cell_type": "code",
   "execution_count": 41,
   "id": "070a7f7d-4730-4404-8edd-a4172996698b",
   "metadata": {},
   "outputs": [],
   "source": [
    "f = Fraction(4,6)"
   ]
  },
  {
   "cell_type": "code",
   "execution_count": 42,
   "id": "126c18f8-cb26-41e9-a25d-c33ec513d24a",
   "metadata": {},
   "outputs": [
    {
     "name": "stdout",
     "output_type": "stream",
     "text": [
      "4/6\n"
     ]
    }
   ],
   "source": [
    "print(f)"
   ]
  },
  {
   "cell_type": "code",
   "execution_count": 43,
   "id": "e2c7df2d-e644-44d2-8986-c4c7b2b5f070",
   "metadata": {},
   "outputs": [
    {
     "name": "stdout",
     "output_type": "stream",
     "text": [
      "5/7\n"
     ]
    }
   ],
   "source": [
    "f2 = Fraction(5,7)\n",
    "print(f2)"
   ]
  },
  {
   "cell_type": "code",
   "execution_count": 44,
   "id": "853ea582-91f4-4c1b-8b7c-8b4d158d8242",
   "metadata": {},
   "outputs": [
    {
     "name": "stdout",
     "output_type": "stream",
     "text": [
      "58/42\n"
     ]
    }
   ],
   "source": [
    "print(f+f2)"
   ]
  },
  {
   "cell_type": "code",
   "execution_count": 45,
   "id": "2eab9816-2828-4116-a5ba-786c971b00f2",
   "metadata": {},
   "outputs": [
    {
     "name": "stdout",
     "output_type": "stream",
     "text": [
      "-2/42\n"
     ]
    }
   ],
   "source": [
    "print(f-f2)"
   ]
  },
  {
   "cell_type": "code",
   "execution_count": 46,
   "id": "26f4e2db-7e7e-481d-a109-cab176ced4ef",
   "metadata": {},
   "outputs": [
    {
     "name": "stdout",
     "output_type": "stream",
     "text": [
      "20/42\n"
     ]
    }
   ],
   "source": [
    "print(f*f2)"
   ]
  },
  {
   "cell_type": "code",
   "execution_count": 47,
   "id": "e2f171df-158f-4e5f-a820-fb09b9cd6e5b",
   "metadata": {},
   "outputs": [
    {
     "name": "stdout",
     "output_type": "stream",
     "text": [
      "28/30\n"
     ]
    }
   ],
   "source": [
    "print(f/f2)"
   ]
  },
  {
   "cell_type": "code",
   "execution_count": null,
   "id": "a83e839a-1d83-4a89-a729-7e91ad2c0def",
   "metadata": {},
   "outputs": [],
   "source": []
  }
 ],
 "metadata": {
  "kernelspec": {
   "display_name": "Python 3 (ipykernel)",
   "language": "python",
   "name": "python3"
  },
  "language_info": {
   "codemirror_mode": {
    "name": "ipython",
    "version": 3
   },
   "file_extension": ".py",
   "mimetype": "text/x-python",
   "name": "python",
   "nbconvert_exporter": "python",
   "pygments_lexer": "ipython3",
   "version": "3.10.7"
  }
 },
 "nbformat": 4,
 "nbformat_minor": 5
}
