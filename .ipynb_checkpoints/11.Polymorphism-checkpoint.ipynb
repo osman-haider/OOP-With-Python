{
 "cells": [
  {
   "cell_type": "markdown",
   "id": "02cbc6ee-e0b7-4dd6-a924-83e589df166e",
   "metadata": {},
   "source": [
    "## Method overriding\n",
    "### it came under polymorphism"
   ]
  },
  {
   "cell_type": "markdown",
   "id": "64c85b1d-0ec5-4aab-8693-c15a368d8807",
   "metadata": {},
   "source": [
    "## if method is same name in both parent and child class and we create object of child class then if we call this method then child class method will be run"
   ]
  },
  {
   "cell_type": "code",
   "execution_count": 1,
   "id": "f51dde63-7ea4-49d5-9095-3ced073aa66a",
   "metadata": {},
   "outputs": [],
   "source": [
    "class User:\n",
    "    def __init__(self,name,password):\n",
    "        print(\"inside parent class\")\n",
    "        self.name = name\n",
    "        self.__password = password\n",
    "\n",
    "    def detail(self):\n",
    "        print(\"parent details\")\n",
    "\n",
    "class Student(User):\n",
    "    def detail(self):\n",
    "        print(\"child details\")"
   ]
  },
  {
   "cell_type": "code",
   "execution_count": 2,
   "id": "6d29cdd9-d820-43aa-8052-21932f8591a9",
   "metadata": {},
   "outputs": [
    {
     "name": "stdout",
     "output_type": "stream",
     "text": [
      "inside parent class\n"
     ]
    }
   ],
   "source": [
    "st2 = Student(\"osman\",1)"
   ]
  },
  {
   "cell_type": "code",
   "execution_count": 3,
   "id": "f8d75d07-7327-4196-8b15-1a56fdb6008d",
   "metadata": {},
   "outputs": [
    {
     "name": "stdout",
     "output_type": "stream",
     "text": [
      "child details\n"
     ]
    }
   ],
   "source": [
    "st2.detail()"
   ]
  },
  {
   "cell_type": "code",
   "execution_count": null,
   "id": "f0702c1e-80cc-4a78-9382-99b417361206",
   "metadata": {},
   "outputs": [],
   "source": []
  }
 ],
 "metadata": {
  "kernelspec": {
   "display_name": "Python 3 (ipykernel)",
   "language": "python",
   "name": "python3"
  },
  "language_info": {
   "codemirror_mode": {
    "name": "ipython",
    "version": 3
   },
   "file_extension": ".py",
   "mimetype": "text/x-python",
   "name": "python",
   "nbconvert_exporter": "python",
   "pygments_lexer": "ipython3",
   "version": "3.10.7"
  }
 },
 "nbformat": 4,
 "nbformat_minor": 5
}
