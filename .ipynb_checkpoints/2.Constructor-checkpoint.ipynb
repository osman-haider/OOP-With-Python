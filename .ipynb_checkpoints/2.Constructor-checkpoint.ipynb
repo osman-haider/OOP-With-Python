{
 "cells": [
  {
   "cell_type": "code",
   "execution_count": 1,
   "id": "db78f76a-ee3f-477f-bd12-f93c00acecf2",
   "metadata": {},
   "outputs": [],
   "source": [
    "class Fb:\n",
    "    #Constructor\n",
    "    def __init__(self):\n",
    "        self.username = \"\"\n",
    "        self.password = \"\"\n",
    "\n",
    "        self.menu()\n",
    "\n",
    "    def menu(self):\n",
    "        user_input = input(\"\"\"\n",
    "        We hope you are doing well,\n",
    "        1. Enter 1 for signup\n",
    "        2. Enter 2 for login\n",
    "        3. Enter 3 for changepassword\n",
    "        4. Enter 4 for deleteaccount\n",
    "        \"\"\")\n",
    "\n",
    "        if user_input == \"1\":\n",
    "            self.signup()\n",
    "        if user_input == \"2\":\n",
    "            self.login()\n",
    "        if user_input == \"3\":\n",
    "            self.passwordchange()\n",
    "        if user_input == \"4\":\n",
    "            self.deleteaccount()\n",
    "        else:\n",
    "            print(\"Bye\")\n",
    "\n",
    "    def signup(self):\n",
    "        user_name = input(\"enter your username\")\n",
    "        password = input(\"enter your password\")\n",
    "        if user_name == self.username:\n",
    "            print(\"This username is already exist\")\n",
    "        else:\n",
    "            self.username = user_name\n",
    "            self.password = password\n",
    "            print(\"Signup successfully\")\n",
    "        \n",
    "    def login(self):\n",
    "        user_name = input(\"enter your username\")\n",
    "        password = input(\"enter your password\")\n",
    "        if user_name == self.username and password == self.password:\n",
    "            print(\"You are login now\")\n",
    "        else:\n",
    "            print(\"Wrong username or password\")\n",
    "\n",
    "    def passwordchange(self):\n",
    "        user_name = input(\"enter your username\")\n",
    "        password = input(\"enter your old password\")\n",
    "        if user_name == self.username and password == self.password:\n",
    "            password = input(\"enter your new password\")\n",
    "            self.password = password\n",
    "        else:\n",
    "            print(\"Wrong username or password\")\n",
    "\n",
    "    def deleteaccount(self):\n",
    "        user_name = input(\"enter your username\")\n",
    "        password = input(\"enter your password\")\n",
    "        if user_name == self.username and password == self.password:\n",
    "            self.username = \"\"\n",
    "            self.password = \"\"\n",
    "            print(\"Your account is deleted\")\n",
    "        else:\n",
    "            print(\"Wrong username or password\")"
   ]
  },
  {
   "cell_type": "code",
   "execution_count": 2,
   "id": "919a24e6-3795-46e3-ae9e-e840f651df51",
   "metadata": {},
   "outputs": [
    {
     "name": "stdin",
     "output_type": "stream",
     "text": [
      "\n",
      "        We hope you are doing well,\n",
      "        1. Enter 1 for signup\n",
      "        2. Enter 2 for login\n",
      "        3. Enter 3 for changepassword\n",
      "        4. Enter 4 for deleteaccount\n",
      "         1\n",
      "enter your username osman\n",
      "enter your password 123\n"
     ]
    },
    {
     "name": "stdout",
     "output_type": "stream",
     "text": [
      "Signup successfully\n",
      "Bye\n"
     ]
    }
   ],
   "source": [
    "user1 = Fb()"
   ]
  },
  {
   "cell_type": "code",
   "execution_count": 3,
   "id": "4c145fbb-2a32-4820-8e64-f7b2ceaafeba",
   "metadata": {},
   "outputs": [
    {
     "name": "stdin",
     "output_type": "stream",
     "text": [
      "enter your username osman\n",
      "enter your password 1\n"
     ]
    },
    {
     "name": "stdout",
     "output_type": "stream",
     "text": [
      "This username is already exist\n"
     ]
    }
   ],
   "source": [
    "user1.signup()"
   ]
  },
  {
   "cell_type": "code",
   "execution_count": 3,
   "id": "c4f420cf-6463-49d9-a6cd-728627e44f84",
   "metadata": {},
   "outputs": [
    {
     "name": "stdin",
     "output_type": "stream",
     "text": [
      "enter your username osman\n",
      "enter your password 123\n"
     ]
    },
    {
     "name": "stdout",
     "output_type": "stream",
     "text": [
      "You are login now\n"
     ]
    }
   ],
   "source": [
    "user1.login()"
   ]
  },
  {
   "cell_type": "code",
   "execution_count": 5,
   "id": "2af1ce82-08ac-4458-bffd-3130999c3015",
   "metadata": {},
   "outputs": [
    {
     "name": "stdin",
     "output_type": "stream",
     "text": [
      "enter your username osman\n",
      "enter your old password 123\n",
      "enter your new password 12\n"
     ]
    }
   ],
   "source": [
    "user1.passwordchange()"
   ]
  },
  {
   "cell_type": "code",
   "execution_count": 6,
   "id": "b106ff5d-5a97-4994-a6f1-4f19a4293c7e",
   "metadata": {},
   "outputs": [
    {
     "name": "stdin",
     "output_type": "stream",
     "text": [
      "enter your username osman\n",
      "enter your password 12\n"
     ]
    },
    {
     "name": "stdout",
     "output_type": "stream",
     "text": [
      "You are login now\n"
     ]
    }
   ],
   "source": [
    "user1.login()"
   ]
  },
  {
   "cell_type": "code",
   "execution_count": 7,
   "id": "f3608ac4-d518-4a1b-9aad-113aab26ccdb",
   "metadata": {},
   "outputs": [
    {
     "name": "stdin",
     "output_type": "stream",
     "text": [
      "enter your username osman\n",
      "enter your password 12\n"
     ]
    },
    {
     "name": "stdout",
     "output_type": "stream",
     "text": [
      "Your account is deleted\n"
     ]
    }
   ],
   "source": [
    "user1.deleteaccount()"
   ]
  },
  {
   "cell_type": "code",
   "execution_count": 8,
   "id": "19b97427-1b19-4dd1-b29c-b77bc64a6e8c",
   "metadata": {},
   "outputs": [
    {
     "name": "stdin",
     "output_type": "stream",
     "text": [
      "enter your username osman\n",
      "enter your password 12\n"
     ]
    },
    {
     "name": "stdout",
     "output_type": "stream",
     "text": [
      "Wrong username or password\n"
     ]
    }
   ],
   "source": [
    "user1.login()"
   ]
  },
  {
   "cell_type": "markdown",
   "id": "9c75816a-a0c1-437b-8834-7facb96ff562",
   "metadata": {},
   "source": [
    "## we can create multiple objects of single class and every object must have unique name"
   ]
  },
  {
   "cell_type": "code",
   "execution_count": null,
   "id": "baa71204-f0a6-4268-b4a4-874b2528a89e",
   "metadata": {},
   "outputs": [],
   "source": []
  }
 ],
 "metadata": {
  "kernelspec": {
   "display_name": "Python 3 (ipykernel)",
   "language": "python",
   "name": "python3"
  },
  "language_info": {
   "codemirror_mode": {
    "name": "ipython",
    "version": 3
   },
   "file_extension": ".py",
   "mimetype": "text/x-python",
   "name": "python",
   "nbconvert_exporter": "python",
   "pygments_lexer": "ipython3",
   "version": "3.10.7"
  }
 },
 "nbformat": 4,
 "nbformat_minor": 5
}
