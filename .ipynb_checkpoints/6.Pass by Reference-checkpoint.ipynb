{
 "cells": [
  {
   "cell_type": "code",
   "execution_count": 15,
   "id": "7f0ebb31-3708-47e1-9731-aadf70e2f05a",
   "metadata": {},
   "outputs": [],
   "source": [
    "class Customer:\n",
    "    def __init__(self,name):\n",
    "        self.name = name\n",
    "\n",
    "def greet(customer):\n",
    "    print(\"Hello\",customer.name)\n",
    "    cust2 = Customer(\"haider\")\n",
    "    return cust2"
   ]
  },
  {
   "cell_type": "code",
   "execution_count": 16,
   "id": "8b196ccb-b11d-4472-83a0-36a6d41b8d50",
   "metadata": {},
   "outputs": [],
   "source": [
    "cust = Customer(\"osman\")"
   ]
  },
  {
   "cell_type": "code",
   "execution_count": 17,
   "id": "0dc9a177-82a1-4d8b-a945-2eefce92544d",
   "metadata": {},
   "outputs": [
    {
     "name": "stdout",
     "output_type": "stream",
     "text": [
      "osman\n"
     ]
    }
   ],
   "source": [
    "print(cust.name)"
   ]
  },
  {
   "cell_type": "code",
   "execution_count": 19,
   "id": "cc5995f2-31b7-4ed7-adf0-40bf9a3e293d",
   "metadata": {},
   "outputs": [
    {
     "name": "stdout",
     "output_type": "stream",
     "text": [
      "Hello osman\n"
     ]
    }
   ],
   "source": [
    "n = greet(cust)"
   ]
  },
  {
   "cell_type": "code",
   "execution_count": 20,
   "id": "ca098abf-ba16-4ada-8685-46e0567d91a7",
   "metadata": {},
   "outputs": [
    {
     "name": "stdout",
     "output_type": "stream",
     "text": [
      "haider\n"
     ]
    }
   ],
   "source": [
    "print(n.name)"
   ]
  },
  {
   "cell_type": "markdown",
   "id": "d981eed0-cb9b-466e-89c9-00e85116b52d",
   "metadata": {},
   "source": [
    "## Pass by ref"
   ]
  },
  {
   "cell_type": "code",
   "execution_count": 32,
   "id": "3886b962-36ee-4195-9c8a-da68b134e4b2",
   "metadata": {},
   "outputs": [],
   "source": [
    "class Customer:\n",
    "    def __init__(self,name):\n",
    "        self.name = name\n",
    "\n",
    "def greet(customer):\n",
    "    print(id(customer))\n",
    "    customer.name = \"haider\"\n",
    "    print(customer.name)\n",
    "    print(id(customer))"
   ]
  },
  {
   "cell_type": "code",
   "execution_count": 33,
   "id": "ee66d82c-7f9a-4164-8454-6aeef13da30d",
   "metadata": {},
   "outputs": [],
   "source": [
    "cust = Customer(\"osman\")"
   ]
  },
  {
   "cell_type": "code",
   "execution_count": 26,
   "id": "f6ffe89d-9025-4792-b386-02ba7d49f76f",
   "metadata": {},
   "outputs": [
    {
     "data": {
      "text/plain": [
       "2343875513072"
      ]
     },
     "execution_count": 26,
     "metadata": {},
     "output_type": "execute_result"
    }
   ],
   "source": [
    "id(cust)"
   ]
  },
  {
   "cell_type": "code",
   "execution_count": 27,
   "id": "e6bad579-19cc-4e82-a5c1-a75b0de03452",
   "metadata": {},
   "outputs": [
    {
     "name": "stdout",
     "output_type": "stream",
     "text": [
      "2343875513072\n"
     ]
    }
   ],
   "source": [
    "greet(cust)"
   ]
  },
  {
   "cell_type": "code",
   "execution_count": 28,
   "id": "8f15d3af-ef86-4bf4-9816-cab8908d4749",
   "metadata": {},
   "outputs": [],
   "source": [
    "## we can see id is same"
   ]
  },
  {
   "cell_type": "code",
   "execution_count": 31,
   "id": "e9abb02a-b652-4c80-b731-f35cd23502af",
   "metadata": {},
   "outputs": [
    {
     "name": "stdout",
     "output_type": "stream",
     "text": [
      "haider\n"
     ]
    }
   ],
   "source": [
    "greet(cust)"
   ]
  },
  {
   "cell_type": "code",
   "execution_count": 35,
   "id": "f7ad7eb1-c891-4389-9ccc-c3c8140a9996",
   "metadata": {},
   "outputs": [
    {
     "name": "stdout",
     "output_type": "stream",
     "text": [
      "2343878067008\n",
      "haider\n",
      "2343878067008\n"
     ]
    }
   ],
   "source": [
    "greet(cust) # now we can see we can see id is same it mean it is mutable data type means we are changing value on the same reference"
   ]
  },
  {
   "cell_type": "code",
   "execution_count": null,
   "id": "b02ea667-f46f-45e1-84d3-70d2928c2001",
   "metadata": {},
   "outputs": [],
   "source": []
  }
 ],
 "metadata": {
  "kernelspec": {
   "display_name": "Python 3 (ipykernel)",
   "language": "python",
   "name": "python3"
  },
  "language_info": {
   "codemirror_mode": {
    "name": "ipython",
    "version": 3
   },
   "file_extension": ".py",
   "mimetype": "text/x-python",
   "name": "python",
   "nbconvert_exporter": "python",
   "pygments_lexer": "ipython3",
   "version": "3.10.7"
  }
 },
 "nbformat": 4,
 "nbformat_minor": 5
}
