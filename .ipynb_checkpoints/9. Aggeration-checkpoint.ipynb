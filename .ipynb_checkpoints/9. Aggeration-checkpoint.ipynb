{
 "cells": [
  {
   "cell_type": "code",
   "execution_count": 4,
   "id": "44747927-6391-4940-ac19-324f79341752",
   "metadata": {},
   "outputs": [],
   "source": [
    "class Customer:\n",
    "    def __init__(self,name,address):\n",
    "        self.name = name\n",
    "        self.address = address\n",
    "\n",
    "    def editprofile(self,new_name,city,home_no):\n",
    "        self.name = new_name\n",
    "        self.address.change_address(city,home_no)\n",
    "\n",
    "class Address:\n",
    "    def __init__(self,city,home_no):\n",
    "        self.city = city\n",
    "        self.home_no = home_no\n",
    "\n",
    "    def change_address(self,new_city,new_home_no):\n",
    "        self.city = new_city\n",
    "        self.home_no = new_home_no"
   ]
  },
  {
   "cell_type": "code",
   "execution_count": 5,
   "id": "42fb99fe-6f98-47b7-8820-13713a6120c6",
   "metadata": {},
   "outputs": [],
   "source": [
    "add = Address(\"Lahore\",'1')\n",
    "cust = Customer(\"usman\",add)"
   ]
  },
  {
   "cell_type": "code",
   "execution_count": 6,
   "id": "7d5a8ec6-cfda-4672-a213-58c072e8025f",
   "metadata": {},
   "outputs": [
    {
     "data": {
      "text/plain": [
       "'Lahore'"
      ]
     },
     "execution_count": 6,
     "metadata": {},
     "output_type": "execute_result"
    }
   ],
   "source": [
    "cust.address.city"
   ]
  },
  {
   "cell_type": "code",
   "execution_count": 7,
   "id": "6b0e7719-c8c6-42a4-9e8b-be1d6104b9f9",
   "metadata": {},
   "outputs": [],
   "source": [
    "cust.editprofile('haider','Dehli',5)"
   ]
  },
  {
   "cell_type": "code",
   "execution_count": 8,
   "id": "0b641b4c-cb2c-4922-ab08-86907ac3e0f4",
   "metadata": {},
   "outputs": [
    {
     "data": {
      "text/plain": [
       "'Dehli'"
      ]
     },
     "execution_count": 8,
     "metadata": {},
     "output_type": "execute_result"
    }
   ],
   "source": [
    "cust.address.city"
   ]
  },
  {
   "cell_type": "code",
   "execution_count": 9,
   "id": "1a6721ec-3546-4613-b1b5-f36770b0afff",
   "metadata": {},
   "outputs": [
    {
     "data": {
      "text/plain": [
       "5"
      ]
     },
     "execution_count": 9,
     "metadata": {},
     "output_type": "execute_result"
    }
   ],
   "source": [
    "cust.address.home_no"
   ]
  },
  {
   "cell_type": "code",
   "execution_count": null,
   "id": "eac86b75-9de3-45ee-b0a2-133938d68ced",
   "metadata": {},
   "outputs": [],
   "source": []
  }
 ],
 "metadata": {
  "kernelspec": {
   "display_name": "Python 3 (ipykernel)",
   "language": "python",
   "name": "python3"
  },
  "language_info": {
   "codemirror_mode": {
    "name": "ipython",
    "version": 3
   },
   "file_extension": ".py",
   "mimetype": "text/x-python",
   "name": "python",
   "nbconvert_exporter": "python",
   "pygments_lexer": "ipython3",
   "version": "3.10.7"
  }
 },
 "nbformat": 4,
 "nbformat_minor": 5
}
