{
 "cells": [
  {
   "cell_type": "code",
   "execution_count": null,
   "id": "35f0a0dd-cc70-488e-8e51-5d06c73b5cda",
   "metadata": {},
   "outputs": [],
   "source": [
    "Cla"
   ]
  }
 ],
 "metadata": {
  "kernelspec": {
   "display_name": "Python 3 (ipykernel)",
   "language": "python",
   "name": "python3"
  },
  "language_info": {
   "codemirror_mode": {
    "name": "ipython",
    "version": 3
   },
   "file_extension": ".py",
   "mimetype": "text/x-python",
   "name": "python",
   "nbconvert_exporter": "python",
   "pygments_lexer": "ipython3",
   "version": "3.10.7"
  }
 },
 "nbformat": 4,
 "nbformat_minor": 5
}
