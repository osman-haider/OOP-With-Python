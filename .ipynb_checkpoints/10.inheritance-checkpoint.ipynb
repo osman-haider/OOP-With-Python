{
 "cells": [
  {
   "cell_type": "code",
   "execution_count": 3,
   "id": "5af251cc-fd2b-44fb-8d9a-b68f1a2e34e4",
   "metadata": {},
   "outputs": [],
   "source": [
    "class User:\n",
    "\n",
    "    def login(self):\n",
    "        print(\"login\")\n",
    "    def register(self):\n",
    "        print(\"register\")"
   ]
  },
  {
   "cell_type": "code",
   "execution_count": 4,
   "id": "d16e888a-2802-4811-9450-0afc15d76fed",
   "metadata": {},
   "outputs": [],
   "source": [
    "class Student(User):\n",
    "\n",
    "    def enroll(self):\n",
    "        print(\"enroll\")\n",
    "    def review(self):\n",
    "        print(\"review\")"
   ]
  },
  {
   "cell_type": "code",
   "execution_count": 5,
   "id": "adec1e91-02dc-457d-bb7a-29e2bdd6dc23",
   "metadata": {},
   "outputs": [],
   "source": [
    "st1 = Student()"
   ]
  },
  {
   "cell_type": "code",
   "execution_count": 8,
   "id": "14b73733-3ff9-4a02-ae4c-0c28b6262202",
   "metadata": {},
   "outputs": [
    {
     "name": "stdout",
     "output_type": "stream",
     "text": [
      "login\n",
      "register\n",
      "enroll\n",
      "review\n"
     ]
    }
   ],
   "source": [
    "st1.login() # st1 can access login,register,enroll,review\n",
    "st1.register()\n",
    "st1.enroll()\n",
    "st1.review()"
   ]
  },
  {
   "cell_type": "code",
   "execution_count": 9,
   "id": "9ff78219-27cf-4d64-96c2-c4da7fd037c6",
   "metadata": {},
   "outputs": [],
   "source": [
    "# but User calss can't access the student class"
   ]
  },
  {
   "cell_type": "code",
   "execution_count": 10,
   "id": "f77e9298-17a2-48b5-85e8-b0f0fb91bb35",
   "metadata": {},
   "outputs": [],
   "source": [
    "user1 = User()"
   ]
  },
  {
   "cell_type": "code",
   "execution_count": 11,
   "id": "bb9476a8-67da-4b69-99fd-a06cd5084c3b",
   "metadata": {},
   "outputs": [
    {
     "name": "stdout",
     "output_type": "stream",
     "text": [
      "login\n",
      "register\n"
     ]
    },
    {
     "ename": "AttributeError",
     "evalue": "'User' object has no attribute 'enroll'",
     "output_type": "error",
     "traceback": [
      "\u001b[1;31m---------------------------------------------------------------------------\u001b[0m",
      "\u001b[1;31mAttributeError\u001b[0m                            Traceback (most recent call last)",
      "Cell \u001b[1;32mIn[11], line 3\u001b[0m\n\u001b[0;32m      1\u001b[0m user1\u001b[38;5;241m.\u001b[39mlogin()\n\u001b[0;32m      2\u001b[0m user1\u001b[38;5;241m.\u001b[39mregister()\n\u001b[1;32m----> 3\u001b[0m \u001b[43muser1\u001b[49m\u001b[38;5;241;43m.\u001b[39;49m\u001b[43menroll\u001b[49m()\n",
      "\u001b[1;31mAttributeError\u001b[0m: 'User' object has no attribute 'enroll'"
     ]
    }
   ],
   "source": [
    "user1.login()\n",
    "user1.register()\n",
    "user1.enroll()"
   ]
  },
  {
   "cell_type": "markdown",
   "id": "4338954f-4a25-4d31-8a0d-f179843c860e",
   "metadata": {},
   "source": [
    "## child class can access constructor of parent calss"
   ]
  },
  {
   "cell_type": "code",
   "execution_count": 12,
   "id": "be9668a7-4a82-4c35-9efa-d13ba6738ad8",
   "metadata": {},
   "outputs": [],
   "source": [
    "class User:\n",
    "    def __init__(self,name,password):\n",
    "        print(\"inside parent class\")\n",
    "        self.name = name\n",
    "        self.password = password"
   ]
  },
  {
   "cell_type": "code",
   "execution_count": 13,
   "id": "50ffd636-111a-4eda-9ddf-c5a2b028573e",
   "metadata": {},
   "outputs": [],
   "source": [
    "class Student(User):\n",
    "    pass"
   ]
  },
  {
   "cell_type": "code",
   "execution_count": 14,
   "id": "4d05c5ab-9553-4216-ab24-07c24b1bbf86",
   "metadata": {},
   "outputs": [
    {
     "name": "stdout",
     "output_type": "stream",
     "text": [
      "inside parent class\n"
     ]
    }
   ],
   "source": [
    "stu = Student(\"usman\",5)"
   ]
  },
  {
   "cell_type": "code",
   "execution_count": 15,
   "id": "46bea948-25eb-40a5-9690-b64ecbe00f21",
   "metadata": {},
   "outputs": [
    {
     "data": {
      "text/plain": [
       "'usman'"
      ]
     },
     "execution_count": 15,
     "metadata": {},
     "output_type": "execute_result"
    }
   ],
   "source": [
    "stu.name"
   ]
  },
  {
   "cell_type": "code",
   "execution_count": 16,
   "id": "3f8c7a8a-3776-46a0-aa7a-bd1a63474600",
   "metadata": {},
   "outputs": [
    {
     "data": {
      "text/plain": [
       "5"
      ]
     },
     "execution_count": 16,
     "metadata": {},
     "output_type": "execute_result"
    }
   ],
   "source": [
    "stu.password"
   ]
  },
  {
   "cell_type": "markdown",
   "id": "e0169edf-4504-4177-a3a0-dc721ff8bce6",
   "metadata": {},
   "source": [
    "## child class can't access private constructors of parent class"
   ]
  },
  {
   "cell_type": "code",
   "execution_count": 1,
   "id": "f6d31cf9-ab06-4c30-86cc-4323278bcfcf",
   "metadata": {},
   "outputs": [],
   "source": [
    "class User:\n",
    "    def __init__(self,name,password):\n",
    "        print(\"inside parent class\")\n",
    "        self.name = name\n",
    "        self.__password = password\n",
    "\n",
    "class Student(User):\n",
    "    pass"
   ]
  },
  {
   "cell_type": "code",
   "execution_count": 2,
   "id": "b1f8e7c3-60cc-47ff-8390-d95002c7676a",
   "metadata": {},
   "outputs": [
    {
     "name": "stdout",
     "output_type": "stream",
     "text": [
      "inside parent class\n"
     ]
    }
   ],
   "source": [
    "st1 = Student(\"osman\",9)"
   ]
  },
  {
   "cell_type": "code",
   "execution_count": 3,
   "id": "1495334c-e46e-488d-badc-ea8d0f364937",
   "metadata": {},
   "outputs": [
    {
     "data": {
      "text/plain": [
       "'osman'"
      ]
     },
     "execution_count": 3,
     "metadata": {},
     "output_type": "execute_result"
    }
   ],
   "source": [
    "st1.name"
   ]
  },
  {
   "cell_type": "code",
   "execution_count": 5,
   "id": "86a64257-8a25-4530-8de9-285535f0b0d4",
   "metadata": {},
   "outputs": [
    {
     "ename": "AttributeError",
     "evalue": "'Student' object has no attribute '__password'",
     "output_type": "error",
     "traceback": [
      "\u001b[1;31m---------------------------------------------------------------------------\u001b[0m",
      "\u001b[1;31mAttributeError\u001b[0m                            Traceback (most recent call last)",
      "Cell \u001b[1;32mIn[5], line 1\u001b[0m\n\u001b[1;32m----> 1\u001b[0m \u001b[43mst1\u001b[49m\u001b[38;5;241;43m.\u001b[39;49m\u001b[43m__password\u001b[49m\n",
      "\u001b[1;31mAttributeError\u001b[0m: 'Student' object has no attribute '__password'"
     ]
    }
   ],
   "source": [
    "st1.__password"
   ]
  },
  {
   "cell_type": "markdown",
   "id": "40b09951-9c80-4aa0-a885-f14df9997dd0",
   "metadata": {},
   "source": [
    "## Example"
   ]
  },
  {
   "cell_type": "code",
   "execution_count": 9,
   "id": "4e61c229-6db2-48b2-94ed-2d41b5c921b3",
   "metadata": {},
   "outputs": [],
   "source": [
    "class User:\n",
    "    def __init__(self,number):\n",
    "        print(\"inside parent class\")\n",
    "        self.__number = number\n",
    "\n",
    "    def get_num(self):\n",
    "        return self.__number\n",
    "\n",
    "class Student(User):\n",
    "    def show(self):\n",
    "        print(\"student show\")"
   ]
  },
  {
   "cell_type": "code",
   "execution_count": 10,
   "id": "66ed31de-afbe-4a39-a7c3-cacc84705001",
   "metadata": {},
   "outputs": [
    {
     "name": "stdout",
     "output_type": "stream",
     "text": [
      "inside parent class\n"
     ]
    }
   ],
   "source": [
    "st3 = Student(2)"
   ]
  },
  {
   "cell_type": "code",
   "execution_count": 11,
   "id": "edcdb0e3-c107-4e57-9b5a-f481dd608bef",
   "metadata": {},
   "outputs": [
    {
     "data": {
      "text/plain": [
       "2"
      ]
     },
     "execution_count": 11,
     "metadata": {},
     "output_type": "execute_result"
    }
   ],
   "source": [
    "st3.get_num()"
   ]
  },
  {
   "cell_type": "code",
   "execution_count": 12,
   "id": "88febb18-607e-4961-a6d6-ac84269a664e",
   "metadata": {},
   "outputs": [
    {
     "name": "stdout",
     "output_type": "stream",
     "text": [
      "student show\n"
     ]
    }
   ],
   "source": [
    "st3.show()"
   ]
  },
  {
   "cell_type": "markdown",
   "id": "78f58f5e-ff9d-4454-9a3f-18b5b5bc26f1",
   "metadata": {},
   "source": [
    "## Example"
   ]
  },
  {
   "cell_type": "markdown",
   "id": "2ac2e829-95d0-4153-b703-61799d4ca819",
   "metadata": {},
   "source": [
    "## If child does't hava his own constructor then then its parent constructor is called otherwise child constructor is call."
   ]
  },
  {
   "cell_type": "code",
   "execution_count": 13,
   "id": "8ff5d1d5-55d2-4548-89b4-fa36344ba9c7",
   "metadata": {},
   "outputs": [],
   "source": [
    "class User:\n",
    "    def __init__(self,number):\n",
    "        print(\"inside parent class\")\n",
    "        self.__number = number\n",
    "\n",
    "    def get_num(self):\n",
    "        return self.__number\n",
    "\n",
    "class Student(User):\n",
    "    def __init__(self,val,number):\n",
    "        self.__val = val\n",
    "    def show(self):\n",
    "        return self.__val"
   ]
  },
  {
   "cell_type": "code",
   "execution_count": 14,
   "id": "c8b8f011-205e-4ca0-b3f8-ec909674725b",
   "metadata": {},
   "outputs": [],
   "source": [
    "st4 = Student(5,100)"
   ]
  },
  {
   "cell_type": "code",
   "execution_count": 15,
   "id": "4fa9aa29-6240-451b-ad47-bdf643540f45",
   "metadata": {},
   "outputs": [
    {
     "data": {
      "text/plain": [
       "5"
      ]
     },
     "execution_count": 15,
     "metadata": {},
     "output_type": "execute_result"
    }
   ],
   "source": [
    "st4.show()"
   ]
  },
  {
   "cell_type": "code",
   "execution_count": 16,
   "id": "3f20b4ba-fbdd-4277-909f-383ad15a6356",
   "metadata": {},
   "outputs": [
    {
     "ename": "AttributeError",
     "evalue": "'Student' object has no attribute '_User__number'",
     "output_type": "error",
     "traceback": [
      "\u001b[1;31m---------------------------------------------------------------------------\u001b[0m",
      "\u001b[1;31mAttributeError\u001b[0m                            Traceback (most recent call last)",
      "Cell \u001b[1;32mIn[16], line 1\u001b[0m\n\u001b[1;32m----> 1\u001b[0m \u001b[43mst4\u001b[49m\u001b[38;5;241;43m.\u001b[39;49m\u001b[43mget_num\u001b[49m\u001b[43m(\u001b[49m\u001b[43m)\u001b[49m\n",
      "Cell \u001b[1;32mIn[13], line 7\u001b[0m, in \u001b[0;36mUser.get_num\u001b[1;34m(self)\u001b[0m\n\u001b[0;32m      6\u001b[0m \u001b[38;5;28;01mdef\u001b[39;00m \u001b[38;5;21mget_num\u001b[39m(\u001b[38;5;28mself\u001b[39m):\n\u001b[1;32m----> 7\u001b[0m     \u001b[38;5;28;01mreturn\u001b[39;00m \u001b[38;5;28;43mself\u001b[39;49m\u001b[38;5;241;43m.\u001b[39;49m\u001b[43m__number\u001b[49m\n",
      "\u001b[1;31mAttributeError\u001b[0m: 'Student' object has no attribute '_User__number'"
     ]
    }
   ],
   "source": [
    "st4.get_num()"
   ]
  },
  {
   "cell_type": "markdown",
   "id": "83cc659c-c61a-47a4-8128-58ff367f81a7",
   "metadata": {},
   "source": [
    "## Example"
   ]
  },
  {
   "cell_type": "code",
   "execution_count": 20,
   "id": "db42b5b9-970e-4e9e-9348-ec38075cf035",
   "metadata": {},
   "outputs": [],
   "source": [
    "class User:\n",
    "    def __init__(self,number):\n",
    "        print(\"inside parent class\")\n",
    "        self.number = number\n",
    "\n",
    "    def display1(self,number):\n",
    "        return self.number\n",
    "\n",
    "class Student(User):\n",
    "    \n",
    "    def display2(self):\n",
    "        return print(\"display 2\")"
   ]
  },
  {
   "cell_type": "code",
   "execution_count": 21,
   "id": "e8381472-0e1e-4108-8095-d20eb3885c30",
   "metadata": {},
   "outputs": [
    {
     "name": "stdout",
     "output_type": "stream",
     "text": [
      "inside parent class\n"
     ]
    }
   ],
   "source": [
    "st5 = Student(50)"
   ]
  },
  {
   "cell_type": "code",
   "execution_count": 22,
   "id": "66306934-cc4d-4915-bd44-d989f372a75b",
   "metadata": {},
   "outputs": [
    {
     "data": {
      "text/plain": [
       "50"
      ]
     },
     "execution_count": 22,
     "metadata": {},
     "output_type": "execute_result"
    }
   ],
   "source": [
    "st5.display1(100)"
   ]
  },
  {
   "cell_type": "markdown",
   "id": "94db513f-3c49-4a9d-9b09-b450936da97b",
   "metadata": {},
   "source": [
    "## Types\n",
    "### 1. Single level inheritance\n",
    "### 2. multilevel inheritance\n",
    "### 3. hierarchical inheritance\n",
    "### 4. multiple inheritance\n",
    "### 5. hybrid inheritance"
   ]
  },
  {
   "cell_type": "markdown",
   "id": "942016f8-47bf-4cbe-888d-f8a0a00b3afc",
   "metadata": {},
   "source": [
    "## 1. Single level inheritance"
   ]
  },
  {
   "cell_type": "code",
   "execution_count": 23,
   "id": "1af921a8-cda2-47bd-821d-d80a0b5ba00d",
   "metadata": {},
   "outputs": [],
   "source": [
    "class User:\n",
    "\n",
    "    def login(self):\n",
    "        print(\"login\")\n",
    "    def register(self):\n",
    "        print(\"register\")\n",
    "\n",
    "class Student(User):\n",
    "\n",
    "    def enroll(self):\n",
    "        print(\"enroll\")\n",
    "    def review(self):\n",
    "        print(\"review\")"
   ]
  },
  {
   "cell_type": "code",
   "execution_count": 24,
   "id": "5d9a5d00-063f-44d6-b77e-0bf0cc1a8d02",
   "metadata": {},
   "outputs": [
    {
     "name": "stdout",
     "output_type": "stream",
     "text": [
      "login\n",
      "register\n",
      "enroll\n",
      "review\n"
     ]
    }
   ],
   "source": [
    "st1 = Student()\n",
    "st1.login() # st1 can access login,register,enroll,review\n",
    "st1.register()\n",
    "st1.enroll()\n",
    "st1.review()"
   ]
  },
  {
   "cell_type": "markdown",
   "id": "bb8a181a-4d23-4c41-9f62-32c68bc93554",
   "metadata": {},
   "source": [
    "## 2. multilevel inheritance"
   ]
  },
  {
   "cell_type": "code",
   "execution_count": 26,
   "id": "1248930b-dff0-4c44-98d0-a5476d5a3c6e",
   "metadata": {},
   "outputs": [],
   "source": [
    "class User:\n",
    "\n",
    "    def login(self):\n",
    "        print(\"login\")\n",
    "    def register(self):\n",
    "        print(\"register\")\n",
    "\n",
    "class Student(User):\n",
    "\n",
    "    def enroll(self):\n",
    "        print(\"enroll\")\n",
    "    def review(self):\n",
    "        print(\"review\")\n",
    "\n",
    "class Single(Student):\n",
    "    pass"
   ]
  },
  {
   "cell_type": "code",
   "execution_count": 27,
   "id": "92055fce-7f96-4727-9ac1-e4a6f73dc2af",
   "metadata": {},
   "outputs": [],
   "source": [
    "s1 = Single()"
   ]
  },
  {
   "cell_type": "code",
   "execution_count": 28,
   "id": "3a4624fe-28dd-4281-b3fd-7b10abe0287f",
   "metadata": {},
   "outputs": [
    {
     "name": "stdout",
     "output_type": "stream",
     "text": [
      "enroll\n",
      "review\n"
     ]
    }
   ],
   "source": [
    "s1.enroll()\n",
    "s1.review()"
   ]
  },
  {
   "cell_type": "code",
   "execution_count": 31,
   "id": "13fe33cf-4b62-440e-bc72-e815faa51bec",
   "metadata": {},
   "outputs": [
    {
     "name": "stdout",
     "output_type": "stream",
     "text": [
      "login\n",
      "register\n"
     ]
    }
   ],
   "source": [
    "s1.login()\n",
    "s1.register()"
   ]
  },
  {
   "cell_type": "markdown",
   "id": "b6614ad0-6865-4279-bb2f-aec28529aa37",
   "metadata": {},
   "source": [
    "## 3. hierarchical inheritance"
   ]
  },
  {
   "cell_type": "code",
   "execution_count": 32,
   "id": "90480776-120e-4408-89c0-b059ddcc6ec4",
   "metadata": {},
   "outputs": [],
   "source": [
    "class User:\n",
    "\n",
    "    def login(self):\n",
    "        print(\"login\")\n",
    "    def register(self):\n",
    "        print(\"register\")\n",
    "\n",
    "class Student(User):\n",
    "\n",
    "    def enroll(self):\n",
    "        print(\"enroll\")\n",
    "    def review(self):\n",
    "        print(\"review\")\n",
    "\n",
    "class OtherStudent(User):\n",
    "    pass"
   ]
  },
  {
   "cell_type": "markdown",
   "id": "c7b787a1-bb15-4208-aad4-e63d4fe36d3b",
   "metadata": {},
   "source": [
    "## 4. multiple inheritance"
   ]
  },
  {
   "cell_type": "code",
   "execution_count": 37,
   "id": "5158fc74-4e12-4b81-a658-b05806626c5a",
   "metadata": {},
   "outputs": [],
   "source": [
    "class Phone:\n",
    "\n",
    "    def phoneshow(self):\n",
    "        print(\"Phone show\")\n",
    "\n",
    "class Product(User):\n",
    "\n",
    "    def productshow(self):\n",
    "        print(\"Product show\")\n",
    "\n",
    "class SmartPhone(Product,Phone):\n",
    "    pass"
   ]
  },
  {
   "cell_type": "code",
   "execution_count": 38,
   "id": "c7c94e38-9719-4952-964b-c0d9ef21b301",
   "metadata": {},
   "outputs": [],
   "source": [
    "sp = SmartPhone()"
   ]
  },
  {
   "cell_type": "code",
   "execution_count": 39,
   "id": "78d01caa-5491-4c21-af5e-a1f13f9666b6",
   "metadata": {},
   "outputs": [
    {
     "name": "stdout",
     "output_type": "stream",
     "text": [
      "Phone show\n"
     ]
    }
   ],
   "source": [
    "sp.phoneshow()"
   ]
  },
  {
   "cell_type": "code",
   "execution_count": 40,
   "id": "8835dac0-2437-4204-80e8-5adf57d11a1b",
   "metadata": {},
   "outputs": [
    {
     "name": "stdout",
     "output_type": "stream",
     "text": [
      "Product show\n"
     ]
    }
   ],
   "source": [
    "sp.productshow()"
   ]
  },
  {
   "cell_type": "markdown",
   "id": "e00837c3-bd4d-4337-af8d-dbf149275717",
   "metadata": {},
   "source": [
    "#### MRO (Method Resolution order)"
   ]
  },
  {
   "cell_type": "code",
   "execution_count": 41,
   "id": "bce4b4f6-cb1c-4d1a-812d-1dd02ad4a4ef",
   "metadata": {},
   "outputs": [],
   "source": [
    "class Phone:\n",
    "\n",
    "    def buy(self):\n",
    "        print(\"Phone buy\")\n",
    "\n",
    "class Product(User):\n",
    "\n",
    "    def buy(self):\n",
    "        print(\"Product buy\")\n",
    "\n",
    "class SmartPhone(Product,Phone): # Product is writen first so buy method of Product call\n",
    "    pass"
   ]
  },
  {
   "cell_type": "code",
   "execution_count": 42,
   "id": "649922cc-3fad-4bd6-9ef2-6440a4698b6b",
   "metadata": {},
   "outputs": [],
   "source": [
    "s = SmartPhone()"
   ]
  },
  {
   "cell_type": "code",
   "execution_count": 43,
   "id": "a03e7470-479a-4111-8a36-9e06e392e600",
   "metadata": {},
   "outputs": [
    {
     "name": "stdout",
     "output_type": "stream",
     "text": [
      "Product buy\n"
     ]
    }
   ],
   "source": [
    "s.buy()"
   ]
  },
  {
   "cell_type": "code",
   "execution_count": null,
   "id": "dca0b977-182f-4a55-a94f-ed9328a27f79",
   "metadata": {},
   "outputs": [],
   "source": []
  },
  {
   "cell_type": "code",
   "execution_count": 4,
   "id": "04ed564b-e8bf-4f89-b70a-3753144cc25f",
   "metadata": {},
   "outputs": [],
   "source": [
    "class A:\n",
    "    def m1(self):\n",
    "        return 20\n",
    "\n",
    "class B(A):\n",
    "    def m1(self):\n",
    "        val = super().m1() + 30\n",
    "        return val\n",
    "\n",
    "class C(B):\n",
    "    def m1(self):\n",
    "        val = self.m1() + 20\n",
    "        return val"
   ]
  },
  {
   "cell_type": "code",
   "execution_count": 5,
   "id": "8f814ab1-87e8-4616-abe1-f451b3e1bad2",
   "metadata": {},
   "outputs": [],
   "source": [
    "ob = C()"
   ]
  },
  {
   "cell_type": "code",
   "execution_count": null,
   "id": "f49d7fe9-4ad7-48da-91c7-1e709d7dd104",
   "metadata": {},
   "outputs": [],
   "source": [
    "ob.m1() ## it show error"
   ]
  },
  {
   "cell_type": "code",
   "execution_count": null,
   "id": "3816abcb-c4f2-4806-8c2f-623bd97e59c9",
   "metadata": {},
   "outputs": [],
   "source": []
  }
 ],
 "metadata": {
  "kernelspec": {
   "display_name": "Python 3 (ipykernel)",
   "language": "python",
   "name": "python3"
  },
  "language_info": {
   "codemirror_mode": {
    "name": "ipython",
    "version": 3
   },
   "file_extension": ".py",
   "mimetype": "text/x-python",
   "name": "python",
   "nbconvert_exporter": "python",
   "pygments_lexer": "ipython3",
   "version": "3.10.7"
  }
 },
 "nbformat": 4,
 "nbformat_minor": 5
}
