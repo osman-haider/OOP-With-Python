{
 "cells": [
  {
   "cell_type": "code",
   "execution_count": 3,
   "id": "5af251cc-fd2b-44fb-8d9a-b68f1a2e34e4",
   "metadata": {},
   "outputs": [],
   "source": [
    "class User:\n",
    "\n",
    "    def login(self):\n",
    "        print(\"login\")\n",
    "    def register(self):\n",
    "        print(\"register\")"
   ]
  },
  {
   "cell_type": "code",
   "execution_count": 4,
   "id": "d16e888a-2802-4811-9450-0afc15d76fed",
   "metadata": {},
   "outputs": [],
   "source": [
    "class Student(User):\n",
    "\n",
    "    def enroll(self):\n",
    "        print(\"enroll\")\n",
    "    def review(self):\n",
    "        print(\"review\")"
   ]
  },
  {
   "cell_type": "code",
   "execution_count": 5,
   "id": "adec1e91-02dc-457d-bb7a-29e2bdd6dc23",
   "metadata": {},
   "outputs": [],
   "source": [
    "st1 = Student()"
   ]
  },
  {
   "cell_type": "code",
   "execution_count": 8,
   "id": "14b73733-3ff9-4a02-ae4c-0c28b6262202",
   "metadata": {},
   "outputs": [
    {
     "name": "stdout",
     "output_type": "stream",
     "text": [
      "login\n",
      "register\n",
      "enroll\n",
      "review\n"
     ]
    }
   ],
   "source": [
    "st1.login() # st1 can access login,register,enroll,review\n",
    "st1.register()\n",
    "st1.enroll()\n",
    "st1.review()"
   ]
  },
  {
   "cell_type": "code",
   "execution_count": 9,
   "id": "9ff78219-27cf-4d64-96c2-c4da7fd037c6",
   "metadata": {},
   "outputs": [],
   "source": [
    "# but User calss can't access the student class"
   ]
  },
  {
   "cell_type": "code",
   "execution_count": 10,
   "id": "f77e9298-17a2-48b5-85e8-b0f0fb91bb35",
   "metadata": {},
   "outputs": [],
   "source": [
    "user1 = User()"
   ]
  },
  {
   "cell_type": "code",
   "execution_count": 11,
   "id": "bb9476a8-67da-4b69-99fd-a06cd5084c3b",
   "metadata": {},
   "outputs": [
    {
     "name": "stdout",
     "output_type": "stream",
     "text": [
      "login\n",
      "register\n"
     ]
    },
    {
     "ename": "AttributeError",
     "evalue": "'User' object has no attribute 'enroll'",
     "output_type": "error",
     "traceback": [
      "\u001b[1;31m---------------------------------------------------------------------------\u001b[0m",
      "\u001b[1;31mAttributeError\u001b[0m                            Traceback (most recent call last)",
      "Cell \u001b[1;32mIn[11], line 3\u001b[0m\n\u001b[0;32m      1\u001b[0m user1\u001b[38;5;241m.\u001b[39mlogin()\n\u001b[0;32m      2\u001b[0m user1\u001b[38;5;241m.\u001b[39mregister()\n\u001b[1;32m----> 3\u001b[0m \u001b[43muser1\u001b[49m\u001b[38;5;241;43m.\u001b[39;49m\u001b[43menroll\u001b[49m()\n",
      "\u001b[1;31mAttributeError\u001b[0m: 'User' object has no attribute 'enroll'"
     ]
    }
   ],
   "source": [
    "user1.login()\n",
    "user1.register()\n",
    "user1.enroll()"
   ]
  },
  {
   "cell_type": "markdown",
   "id": "4338954f-4a25-4d31-8a0d-f179843c860e",
   "metadata": {},
   "source": [
    "## child class can access constructor of parent calss"
   ]
  },
  {
   "cell_type": "code",
   "execution_count": 12,
   "id": "be9668a7-4a82-4c35-9efa-d13ba6738ad8",
   "metadata": {},
   "outputs": [],
   "source": [
    "class User:\n",
    "    def __init__(self,name,password):\n",
    "        print(\"inside parent class\")\n",
    "        self.name = name\n",
    "        self.password = password"
   ]
  },
  {
   "cell_type": "code",
   "execution_count": 13,
   "id": "50ffd636-111a-4eda-9ddf-c5a2b028573e",
   "metadata": {},
   "outputs": [],
   "source": [
    "class Student(User):\n",
    "    pass"
   ]
  },
  {
   "cell_type": "code",
   "execution_count": 14,
   "id": "4d05c5ab-9553-4216-ab24-07c24b1bbf86",
   "metadata": {},
   "outputs": [
    {
     "name": "stdout",
     "output_type": "stream",
     "text": [
      "inside parent class\n"
     ]
    }
   ],
   "source": [
    "stu = Student(\"usman\",5)"
   ]
  },
  {
   "cell_type": "code",
   "execution_count": 15,
   "id": "46bea948-25eb-40a5-9690-b64ecbe00f21",
   "metadata": {},
   "outputs": [
    {
     "data": {
      "text/plain": [
       "'usman'"
      ]
     },
     "execution_count": 15,
     "metadata": {},
     "output_type": "execute_result"
    }
   ],
   "source": [
    "stu.name"
   ]
  },
  {
   "cell_type": "code",
   "execution_count": 16,
   "id": "3f8c7a8a-3776-46a0-aa7a-bd1a63474600",
   "metadata": {},
   "outputs": [
    {
     "data": {
      "text/plain": [
       "5"
      ]
     },
     "execution_count": 16,
     "metadata": {},
     "output_type": "execute_result"
    }
   ],
   "source": [
    "stu.password"
   ]
  },
  {
   "cell_type": "markdown",
   "id": "e0169edf-4504-4177-a3a0-dc721ff8bce6",
   "metadata": {},
   "source": [
    "## child class can't access private constructors of parent class"
   ]
  },
  {
   "cell_type": "code",
   "execution_count": 1,
   "id": "f6d31cf9-ab06-4c30-86cc-4323278bcfcf",
   "metadata": {},
   "outputs": [],
   "source": [
    "class User:\n",
    "    def __init__(self,name,password):\n",
    "        print(\"inside parent class\")\n",
    "        self.name = name\n",
    "        self.__password = password\n",
    "\n",
    "class Student(User):\n",
    "    pass"
   ]
  },
  {
   "cell_type": "code",
   "execution_count": 2,
   "id": "b1f8e7c3-60cc-47ff-8390-d95002c7676a",
   "metadata": {},
   "outputs": [
    {
     "name": "stdout",
     "output_type": "stream",
     "text": [
      "inside parent class\n"
     ]
    }
   ],
   "source": [
    "st1 = Student(\"osman\",9)"
   ]
  },
  {
   "cell_type": "code",
   "execution_count": 3,
   "id": "1495334c-e46e-488d-badc-ea8d0f364937",
   "metadata": {},
   "outputs": [
    {
     "data": {
      "text/plain": [
       "'osman'"
      ]
     },
     "execution_count": 3,
     "metadata": {},
     "output_type": "execute_result"
    }
   ],
   "source": [
    "st1.name"
   ]
  },
  {
   "cell_type": "code",
   "execution_count": 5,
   "id": "86a64257-8a25-4530-8de9-285535f0b0d4",
   "metadata": {},
   "outputs": [
    {
     "ename": "AttributeError",
     "evalue": "'Student' object has no attribute '__password'",
     "output_type": "error",
     "traceback": [
      "\u001b[1;31m---------------------------------------------------------------------------\u001b[0m",
      "\u001b[1;31mAttributeError\u001b[0m                            Traceback (most recent call last)",
      "Cell \u001b[1;32mIn[5], line 1\u001b[0m\n\u001b[1;32m----> 1\u001b[0m \u001b[43mst1\u001b[49m\u001b[38;5;241;43m.\u001b[39;49m\u001b[43m__password\u001b[49m\n",
      "\u001b[1;31mAttributeError\u001b[0m: 'Student' object has no attribute '__password'"
     ]
    }
   ],
   "source": [
    "st1.__password"
   ]
  },
  {
   "cell_type": "code",
   "execution_count": null,
   "id": "4e61c229-6db2-48b2-94ed-2d41b5c921b3",
   "metadata": {},
   "outputs": [],
   "source": []
  }
 ],
 "metadata": {
  "kernelspec": {
   "display_name": "Python 3 (ipykernel)",
   "language": "python",
   "name": "python3"
  },
  "language_info": {
   "codemirror_mode": {
    "name": "ipython",
    "version": 3
   },
   "file_extension": ".py",
   "mimetype": "text/x-python",
   "name": "python",
   "nbconvert_exporter": "python",
   "pygments_lexer": "ipython3",
   "version": "3.10.7"
  }
 },
 "nbformat": 4,
 "nbformat_minor": 5
}
