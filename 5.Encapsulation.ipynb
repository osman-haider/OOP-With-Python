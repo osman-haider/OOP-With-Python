{
 "cells": [
  {
   "cell_type": "code",
   "execution_count": 7,
   "id": "3834c192-082c-4a28-8d4c-1a10d27af834",
   "metadata": {},
   "outputs": [],
   "source": [
    "class Fb:\n",
    "    #Constructor\n",
    "    def __init__(self):\n",
    "        self.__username = \"\"\n",
    "        self.__password = \"\"\n",
    "        print(id(self))\n",
    "        self.__menu()\n",
    "\n",
    "    def __menu(self):\n",
    "        user_input = input(\"\"\"\n",
    "        We hope you are doing well,\n",
    "        1. Enter 1 for signup\n",
    "        2. Enter 2 for login\n",
    "        3. Enter 3 for changepassword\n",
    "        4. Enter 4 for deleteaccount\n",
    "        \"\"\")\n",
    "\n",
    "        if user_input == \"1\":\n",
    "            self.signup()\n",
    "        if user_input == \"2\":\n",
    "            self.login()\n",
    "        if user_input == \"3\":\n",
    "            self.passwordchange()\n",
    "        if user_input == \"4\":\n",
    "            self.deleteaccount()\n",
    "        else:\n",
    "            print(\"Bye\")\n",
    "\n",
    "    def get_username(self):\n",
    "        print(self.__username)\n",
    "\n",
    "    # in this method we can apply our any logic which we can't apply on directly object_name.username\n",
    "    def set_username(self,new_username):\n",
    "        if type(new_username) == str and len(new_username) > 4:\n",
    "            self.__username = new_username\n",
    "            print(\"username is cahnged\")\n",
    "        else:\n",
    "            print(\"not allowed\")\n",
    "\n",
    "    def signup(self):\n",
    "        user_name = input(\"enter your username\")\n",
    "        password = input(\"enter your password\")\n",
    "        if user_name == self.__username:\n",
    "            print(\"This username is already exist\")\n",
    "        else:\n",
    "            self.__username = user_name\n",
    "            self.__password = password\n",
    "            print(\"Signup successfully\")\n",
    "        \n",
    "    def login(self):\n",
    "        user_name = input(\"enter your username\")\n",
    "        password = input(\"enter your password\")\n",
    "        if user_name == self.__username and password == self.__password:\n",
    "            print(\"You are login now\")\n",
    "        else:\n",
    "            print(\"Wrong username or password\")\n",
    "\n",
    "    def passwordchange(self):\n",
    "        user_name = input(\"enter your username\")\n",
    "        password = input(\"enter your old password\")\n",
    "        if user_name == self.__username and password == self.__password:\n",
    "            password = input(\"enter your new password\")\n",
    "            self.__password = password\n",
    "        else:\n",
    "            print(\"Wrong username or password\")\n",
    "\n",
    "    def deleteaccount(self):\n",
    "        user_name = input(\"enter your username\")\n",
    "        password = input(\"enter your password\")\n",
    "        if user_name == self.__username and password == self.__password:\n",
    "            self.__username = \"\"\n",
    "            self.__password = \"\"\n",
    "            print(\"Your account is deleted\")\n",
    "        else:\n",
    "            print(\"Wrong username or password\")"
   ]
  },
  {
   "cell_type": "code",
   "execution_count": 8,
   "id": "528be526-ed78-4092-8801-33f262e2c33d",
   "metadata": {},
   "outputs": [
    {
     "name": "stdout",
     "output_type": "stream",
     "text": [
      "2538417133344\n"
     ]
    },
    {
     "name": "stdin",
     "output_type": "stream",
     "text": [
      "\n",
      "        We hope you are doing well,\n",
      "        1. Enter 1 for signup\n",
      "        2. Enter 2 for login\n",
      "        3. Enter 3 for changepassword\n",
      "        4. Enter 4 for deleteaccount\n",
      "         1\n",
      "enter your username osman\n",
      "enter your password 123\n"
     ]
    },
    {
     "name": "stdout",
     "output_type": "stream",
     "text": [
      "Signup successfully\n",
      "Bye\n"
     ]
    }
   ],
   "source": [
    "user1= Fb()"
   ]
  },
  {
   "cell_type": "code",
   "execution_count": 9,
   "id": "01b30f20-ac22-47e9-b695-876f88c0178e",
   "metadata": {},
   "outputs": [
    {
     "name": "stdout",
     "output_type": "stream",
     "text": [
      "osman\n"
     ]
    }
   ],
   "source": [
    "user1.get_username()"
   ]
  },
  {
   "cell_type": "code",
   "execution_count": 10,
   "id": "ac2b3e03-86d5-442b-b431-09d518ca22a5",
   "metadata": {},
   "outputs": [
    {
     "name": "stdout",
     "output_type": "stream",
     "text": [
      "not allowed\n"
     ]
    }
   ],
   "source": [
    "user1.set_username(6)"
   ]
  },
  {
   "cell_type": "code",
   "execution_count": 11,
   "id": "22c6ad3f-a6f0-45a5-92e1-6532a66d9748",
   "metadata": {},
   "outputs": [
    {
     "name": "stdout",
     "output_type": "stream",
     "text": [
      "not allowed\n"
     ]
    }
   ],
   "source": [
    "user1.set_username(\"os\")"
   ]
  },
  {
   "cell_type": "code",
   "execution_count": 12,
   "id": "f114027b-2ba4-4d3b-83bc-34215c6b699a",
   "metadata": {},
   "outputs": [
    {
     "name": "stdout",
     "output_type": "stream",
     "text": [
      "username is cahnged\n"
     ]
    }
   ],
   "source": [
    "user1.set_username(\"haider\")"
   ]
  },
  {
   "cell_type": "code",
   "execution_count": 13,
   "id": "16f0fa7a-60d6-4c33-8bd0-19041452a990",
   "metadata": {},
   "outputs": [
    {
     "name": "stdout",
     "output_type": "stream",
     "text": [
      "haider\n"
     ]
    }
   ],
   "source": [
    "user1.get_username()"
   ]
  },
  {
   "cell_type": "code",
   "execution_count": 3,
   "id": "46b676ea-967d-438b-8582-84cb87f10315",
   "metadata": {},
   "outputs": [],
   "source": [
    "## now user1 object can't access directely constructors these are private now"
   ]
  },
  {
   "cell_type": "code",
   "execution_count": 4,
   "id": "b5bd6bca-3203-492a-b70c-6c7f495936b7",
   "metadata": {},
   "outputs": [],
   "source": [
    "## we also can hide any method by using __methodname then object can't access it directly "
   ]
  },
  {
   "cell_type": "code",
   "execution_count": null,
   "id": "d2b687a2-4e2a-445d-9259-20f51c1c2878",
   "metadata": {},
   "outputs": [],
   "source": []
  }
 ],
 "metadata": {
  "kernelspec": {
   "display_name": "Python 3 (ipykernel)",
   "language": "python",
   "name": "python3"
  },
  "language_info": {
   "codemirror_mode": {
    "name": "ipython",
    "version": 3
   },
   "file_extension": ".py",
   "mimetype": "text/x-python",
   "name": "python",
   "nbconvert_exporter": "python",
   "pygments_lexer": "ipython3",
   "version": "3.10.7"
  }
 },
 "nbformat": 4,
 "nbformat_minor": 5
}
