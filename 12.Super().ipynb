{
 "cells": [
  {
   "cell_type": "code",
   "execution_count": 22,
   "id": "5144114c-6418-48bd-b79d-da3561cec738",
   "metadata": {},
   "outputs": [],
   "source": [
    "class User:\n",
    "    def __init__(self,number):\n",
    "        print(\"inside parent class\")\n",
    "        self.number = number\n",
    "\n",
    "    def disp(self):\n",
    "        print(\"Its user\")\n",
    "\n",
    "class Student(User):\n",
    "    \n",
    "    def disp(self):\n",
    "        super().disp() # this should be the first statement in constructor otherwise it not work\n",
    "        print(\"student display\")"
   ]
  },
  {
   "cell_type": "code",
   "execution_count": 8,
   "id": "8284bbe0-a50a-4052-9a9a-b802af34bcb1",
   "metadata": {},
   "outputs": [
    {
     "name": "stdout",
     "output_type": "stream",
     "text": [
      "inside parent class\n"
     ]
    }
   ],
   "source": [
    "st1 = Student(6)"
   ]
  },
  {
   "cell_type": "code",
   "execution_count": 9,
   "id": "388d133c-63a4-45c3-b4a5-a3c32039f711",
   "metadata": {},
   "outputs": [
    {
     "name": "stdout",
     "output_type": "stream",
     "text": [
      "student display\n",
      "Its user\n"
     ]
    }
   ],
   "source": [
    "st1.disp()"
   ]
  },
  {
   "cell_type": "code",
   "execution_count": 11,
   "id": "124bb7eb-2204-4fdd-9504-a7aa0332f0f7",
   "metadata": {},
   "outputs": [
    {
     "ename": "AttributeError",
     "evalue": "'Student' object has no attribute 'super'",
     "output_type": "error",
     "traceback": [
      "\u001b[1;31m---------------------------------------------------------------------------\u001b[0m",
      "\u001b[1;31mAttributeError\u001b[0m                            Traceback (most recent call last)",
      "Cell \u001b[1;32mIn[11], line 1\u001b[0m\n\u001b[1;32m----> 1\u001b[0m \u001b[43mst1\u001b[49m\u001b[38;5;241;43m.\u001b[39;49m\u001b[43msuper\u001b[49m()\u001b[38;5;241m.\u001b[39mdisp() \u001b[38;5;66;03m# super keyword does't work outside of class\u001b[39;00m\n",
      "\u001b[1;31mAttributeError\u001b[0m: 'Student' object has no attribute 'super'"
     ]
    }
   ],
   "source": [
    "st1.super().disp() # super keyword does't work outside of class"
   ]
  },
  {
   "cell_type": "markdown",
   "id": "da08da2b-7328-45b4-8e51-6a4810415465",
   "metadata": {},
   "source": [
    "## another example"
   ]
  },
  {
   "cell_type": "code",
   "execution_count": 14,
   "id": "21be1ef8-8544-4a9c-8494-0ae8441c2138",
   "metadata": {},
   "outputs": [],
   "source": [
    "class User:\n",
    "    def __init__(self,number):\n",
    "        print(\"inside parent class\")\n",
    "        self.number = number\n",
    "\n",
    "class Student(User):\n",
    "    def __init__(self,name,number):\n",
    "        super().__init__(number)\n",
    "        print(\"inside parent class\")\n",
    "        self.name = name\n",
    "    "
   ]
  },
  {
   "cell_type": "code",
   "execution_count": 15,
   "id": "bea654c1-c7df-4633-86d6-9e598a8102fd",
   "metadata": {},
   "outputs": [
    {
     "name": "stdout",
     "output_type": "stream",
     "text": [
      "inside parent class\n",
      "inside parent class\n"
     ]
    }
   ],
   "source": [
    "st2 = Student(\"osman\",5)"
   ]
  },
  {
   "cell_type": "code",
   "execution_count": 16,
   "id": "58bec98b-cdb5-46e6-aac5-d88870fc49b3",
   "metadata": {},
   "outputs": [
    {
     "data": {
      "text/plain": [
       "'osman'"
      ]
     },
     "execution_count": 16,
     "metadata": {},
     "output_type": "execute_result"
    }
   ],
   "source": [
    "st2.name"
   ]
  },
  {
   "cell_type": "code",
   "execution_count": 17,
   "id": "467a0725-3796-4459-b0ce-c8aea8336064",
   "metadata": {},
   "outputs": [
    {
     "data": {
      "text/plain": [
       "5"
      ]
     },
     "execution_count": 17,
     "metadata": {},
     "output_type": "execute_result"
    }
   ],
   "source": [
    "st2.number"
   ]
  },
  {
   "cell_type": "markdown",
   "id": "a51a2553-8c58-4bc0-a0ae-655ec0d81921",
   "metadata": {},
   "source": [
    "## Example"
   ]
  },
  {
   "cell_type": "code",
   "execution_count": 18,
   "id": "e6fa6a88-91d6-4ec2-9895-b96bfa20633d",
   "metadata": {},
   "outputs": [],
   "source": [
    "class User:\n",
    "    def __init__(self,number):\n",
    "        print(\"inside parent class\")\n",
    "        self.__number = number\n",
    "\n",
    "    def get_num(self):\n",
    "        print(self.__number)\n",
    "\n",
    "class Student(User):\n",
    "    def __init__(self,name,number):\n",
    "        super().__init__(number)\n",
    "        print(\"inside parent class\")\n",
    "        self.__name = name\n",
    "    def get_name(self):\n",
    "        print(self.__name)"
   ]
  },
  {
   "cell_type": "code",
   "execution_count": 19,
   "id": "1c4a8c0d-2556-44e1-85ac-0041698a47e6",
   "metadata": {},
   "outputs": [
    {
     "name": "stdout",
     "output_type": "stream",
     "text": [
      "inside parent class\n",
      "inside parent class\n"
     ]
    }
   ],
   "source": [
    "st3 = Student(\"usman\",1)"
   ]
  },
  {
   "cell_type": "code",
   "execution_count": 20,
   "id": "f0154a48-1ab5-4b26-842a-10b32f305364",
   "metadata": {},
   "outputs": [
    {
     "name": "stdout",
     "output_type": "stream",
     "text": [
      "usman\n"
     ]
    }
   ],
   "source": [
    "st3.get_name()"
   ]
  },
  {
   "cell_type": "code",
   "execution_count": 21,
   "id": "c6b26250-22a8-4633-81b1-a69bc64893ff",
   "metadata": {},
   "outputs": [
    {
     "name": "stdout",
     "output_type": "stream",
     "text": [
      "1\n"
     ]
    }
   ],
   "source": [
    "st3.get_num()"
   ]
  },
  {
   "cell_type": "markdown",
   "id": "4348703e-d869-4e3b-bb1b-232075954e8b",
   "metadata": {},
   "source": [
    "## Example"
   ]
  },
  {
   "cell_type": "code",
   "execution_count": 23,
   "id": "ccd304e7-9612-4899-a149-993f4281c723",
   "metadata": {},
   "outputs": [],
   "source": [
    "class User:\n",
    "    def __init__(self):\n",
    "        print(\"inside parent class\")\n",
    "        self.number = 100\n",
    "\n",
    "class Student(User):\n",
    "    def __init__(self):\n",
    "        super().__init__()\n",
    "        self.name = \"osman\"\n",
    "\n",
    "    def show(self):\n",
    "        print(self.number)\n",
    "        print(self.name)\n",
    "    "
   ]
  },
  {
   "cell_type": "code",
   "execution_count": 24,
   "id": "de115eeb-5468-404d-9c98-ffc9f95ae2b6",
   "metadata": {},
   "outputs": [
    {
     "name": "stdout",
     "output_type": "stream",
     "text": [
      "inside parent class\n"
     ]
    }
   ],
   "source": [
    "st4 = Student()"
   ]
  },
  {
   "cell_type": "code",
   "execution_count": 25,
   "id": "cb0742d1-2e08-4410-b70e-9061fe69ddf8",
   "metadata": {},
   "outputs": [
    {
     "name": "stdout",
     "output_type": "stream",
     "text": [
      "100\n",
      "osman\n"
     ]
    }
   ],
   "source": [
    "st4.show()"
   ]
  },
  {
   "cell_type": "markdown",
   "id": "f66a72d1-4f34-4185-abd2-2718f5226592",
   "metadata": {},
   "source": [
    "## Example"
   ]
  },
  {
   "cell_type": "code",
   "execution_count": 26,
   "id": "041d62c5-71b1-44c7-b89e-6fb01bd7722f",
   "metadata": {},
   "outputs": [],
   "source": [
    "class User:\n",
    "    def __init__(self):\n",
    "        print(\"inside parent class\")\n",
    "        self.__number = 100\n",
    "\n",
    "    def show(self):\n",
    "        print(self.__number)\n",
    "\n",
    "class Student(User):\n",
    "    def __init__(self):\n",
    "        super().__init__()\n",
    "        self.__name = \"osman\"\n",
    "\n",
    "    def show(self):\n",
    "        print(self.__name)\n",
    "    "
   ]
  },
  {
   "cell_type": "code",
   "execution_count": 27,
   "id": "18a5c434-aa72-4318-b538-78062ca27930",
   "metadata": {},
   "outputs": [
    {
     "name": "stdout",
     "output_type": "stream",
     "text": [
      "inside parent class\n"
     ]
    }
   ],
   "source": [
    "parent = User()"
   ]
  },
  {
   "cell_type": "code",
   "execution_count": 28,
   "id": "b539f159-09e5-4217-b5be-c42da35ddb13",
   "metadata": {},
   "outputs": [
    {
     "name": "stdout",
     "output_type": "stream",
     "text": [
      "100\n"
     ]
    }
   ],
   "source": [
    "parent.show()"
   ]
  },
  {
   "cell_type": "code",
   "execution_count": 29,
   "id": "681fac5e-8f33-4b07-b724-c95c6d673ca7",
   "metadata": {},
   "outputs": [
    {
     "name": "stdout",
     "output_type": "stream",
     "text": [
      "inside parent class\n"
     ]
    }
   ],
   "source": [
    "child = Student()"
   ]
  },
  {
   "cell_type": "code",
   "execution_count": 30,
   "id": "062a3c4f-3e7f-40bc-bff2-841f8ba93e89",
   "metadata": {},
   "outputs": [
    {
     "name": "stdout",
     "output_type": "stream",
     "text": [
      "osman\n"
     ]
    }
   ],
   "source": [
    "child.show()"
   ]
  },
  {
   "cell_type": "code",
   "execution_count": null,
   "id": "a0265676-9332-4842-b477-df443b9064c6",
   "metadata": {},
   "outputs": [],
   "source": []
  }
 ],
 "metadata": {
  "kernelspec": {
   "display_name": "Python 3 (ipykernel)",
   "language": "python",
   "name": "python3"
  },
  "language_info": {
   "codemirror_mode": {
    "name": "ipython",
    "version": 3
   },
   "file_extension": ".py",
   "mimetype": "text/x-python",
   "name": "python",
   "nbconvert_exporter": "python",
   "pygments_lexer": "ipython3",
   "version": "3.10.7"
  }
 },
 "nbformat": 4,
 "nbformat_minor": 5
}
