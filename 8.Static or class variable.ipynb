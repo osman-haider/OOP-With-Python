{
 "cells": [
  {
   "cell_type": "code",
   "execution_count": 37,
   "id": "7b1c6a01-620e-4fd6-b85e-47e88403857c",
   "metadata": {},
   "outputs": [],
   "source": [
    "class Fb:\n",
    "\n",
    "    # class or static variable\n",
    "    __user_id = 0\n",
    "    \n",
    "    #Constructor\n",
    "    def __init__(self):\n",
    "        # instance variables\n",
    "        self.username = \"\"\n",
    "        self.password = \"\"\n",
    "        self.id = Fb.__user_id\n",
    "        Fb.__user_id = Fb.__user_id + 1\n",
    "\n",
    "        # self.menu()\n",
    "    @staticmethod\n",
    "    def getid():\n",
    "        print(Fb.__user_id)\n",
    "        \n",
    "    @staticmethod\n",
    "    def setid(value):\n",
    "        Fb.__user_id = value\n",
    "        print(\"value is changed\")\n",
    "        \n",
    "    def menu(self):\n",
    "        user_input = input(\"\"\"\n",
    "        We hope you are doing well,\n",
    "        1. Enter 1 for signup\n",
    "        2. Enter 2 for login\n",
    "        3. Enter 3 for changepassword\n",
    "        4. Enter 4 for deleteaccount\n",
    "        \"\"\")\n",
    "\n",
    "        if user_input == \"1\":\n",
    "            self.signup()\n",
    "        if user_input == \"2\":\n",
    "            self.login()\n",
    "        if user_input == \"3\":\n",
    "            self.passwordchange()\n",
    "        if user_input == \"4\":\n",
    "            self.deleteaccount()\n",
    "        else:\n",
    "            print(\"Bye\")\n",
    "\n",
    "    def signup(self):\n",
    "        user_name = input(\"enter your username\")\n",
    "        password = input(\"enter your password\")\n",
    "        if user_name == self.username:\n",
    "            print(\"This username is already exist\")\n",
    "        else:\n",
    "            self.username = user_name\n",
    "            self.password = password\n",
    "            print(\"Signup successfully\")\n",
    "        \n",
    "    def login(self):\n",
    "        user_name = input(\"enter your username\")\n",
    "        password = input(\"enter your password\")\n",
    "        if user_name == self.username and password == self.password:\n",
    "            print(\"You are login now\")\n",
    "        else:\n",
    "            print(\"Wrong username or password\")\n",
    "\n",
    "    def passwordchange(self):\n",
    "        user_name = input(\"enter your username\")\n",
    "        password = input(\"enter your old password\")\n",
    "        if user_name == self.username and password == self.password:\n",
    "            password = input(\"enter your new password\")\n",
    "            self.password = password\n",
    "        else:\n",
    "            print(\"Wrong username or password\")\n",
    "\n",
    "    def deleteaccount(self):\n",
    "        user_name = input(\"enter your username\")\n",
    "        password = input(\"enter your password\")\n",
    "        if user_name == self.username and password == self.password:\n",
    "            self.username = \"\"\n",
    "            self.password = \"\"\n",
    "            print(\"Your account is deleted\")\n",
    "        else:\n",
    "            print(\"Wrong username or password\")"
   ]
  },
  {
   "cell_type": "code",
   "execution_count": 38,
   "id": "bdc26d2b-a9ae-4233-98e2-26a36c531487",
   "metadata": {},
   "outputs": [],
   "source": [
    "st1 = Fb()\n",
    "st2 = Fb()\n",
    "st3 = Fb()"
   ]
  },
  {
   "cell_type": "code",
   "execution_count": 18,
   "id": "adfda1ec-1c98-442c-94c7-a576b3183cf5",
   "metadata": {},
   "outputs": [
    {
     "data": {
      "text/plain": [
       "0"
      ]
     },
     "execution_count": 18,
     "metadata": {},
     "output_type": "execute_result"
    }
   ],
   "source": [
    "st1.id"
   ]
  },
  {
   "cell_type": "code",
   "execution_count": 19,
   "id": "8e21af98-e54b-4fa0-b552-c8f58469040c",
   "metadata": {},
   "outputs": [
    {
     "data": {
      "text/plain": [
       "1"
      ]
     },
     "execution_count": 19,
     "metadata": {},
     "output_type": "execute_result"
    }
   ],
   "source": [
    "st2.id"
   ]
  },
  {
   "cell_type": "code",
   "execution_count": 20,
   "id": "2130ff6c-fadb-441d-85bf-4fcae0351e7c",
   "metadata": {},
   "outputs": [
    {
     "data": {
      "text/plain": [
       "2"
      ]
     },
     "execution_count": 20,
     "metadata": {},
     "output_type": "execute_result"
    }
   ],
   "source": [
    "st3.id"
   ]
  },
  {
   "cell_type": "code",
   "execution_count": 7,
   "id": "1ca3f936-281a-404d-814d-47dfa29e208b",
   "metadata": {},
   "outputs": [],
   "source": [
    "# now we can see id of student is different for every student"
   ]
  },
  {
   "cell_type": "code",
   "execution_count": 8,
   "id": "ca9857dc-8632-41da-8698-ce90cadc19f3",
   "metadata": {},
   "outputs": [
    {
     "data": {
      "text/plain": [
       "3"
      ]
     },
     "execution_count": 8,
     "metadata": {},
     "output_type": "execute_result"
    }
   ],
   "source": [
    "st3.user_id"
   ]
  },
  {
   "cell_type": "code",
   "execution_count": 9,
   "id": "39f2fa73-bb6e-480e-a5f1-0c4a3d41153e",
   "metadata": {},
   "outputs": [
    {
     "data": {
      "text/plain": [
       "3"
      ]
     },
     "execution_count": 9,
     "metadata": {},
     "output_type": "execute_result"
    }
   ],
   "source": [
    "Fb.user_id"
   ]
  },
  {
   "cell_type": "code",
   "execution_count": 10,
   "id": "237eb384-c00a-4aa7-9853-e0c46df06388",
   "metadata": {},
   "outputs": [
    {
     "data": {
      "text/plain": [
       "3"
      ]
     },
     "execution_count": 10,
     "metadata": {},
     "output_type": "execute_result"
    }
   ],
   "source": [
    "st2.user_id"
   ]
  },
  {
   "cell_type": "code",
   "execution_count": 11,
   "id": "74763de5-393d-482b-900e-266b79414f41",
   "metadata": {},
   "outputs": [],
   "source": [
    "Fb.user_id = \"gfdh\""
   ]
  },
  {
   "cell_type": "code",
   "execution_count": 12,
   "id": "59431a81-81b9-4d71-9b37-0c289177733c",
   "metadata": {},
   "outputs": [
    {
     "ename": "TypeError",
     "evalue": "can only concatenate str (not \"int\") to str",
     "output_type": "error",
     "traceback": [
      "\u001b[1;31m---------------------------------------------------------------------------\u001b[0m",
      "\u001b[1;31mTypeError\u001b[0m                                 Traceback (most recent call last)",
      "Cell \u001b[1;32mIn[12], line 1\u001b[0m\n\u001b[1;32m----> 1\u001b[0m st3 \u001b[38;5;241m=\u001b[39m \u001b[43mFb\u001b[49m\u001b[43m(\u001b[49m\u001b[43m)\u001b[49m\n",
      "Cell \u001b[1;32mIn[2], line 12\u001b[0m, in \u001b[0;36mFb.__init__\u001b[1;34m(self)\u001b[0m\n\u001b[0;32m     10\u001b[0m \u001b[38;5;28mself\u001b[39m\u001b[38;5;241m.\u001b[39mpassword \u001b[38;5;241m=\u001b[39m \u001b[38;5;124m\"\u001b[39m\u001b[38;5;124m\"\u001b[39m\n\u001b[0;32m     11\u001b[0m \u001b[38;5;28mself\u001b[39m\u001b[38;5;241m.\u001b[39mid \u001b[38;5;241m=\u001b[39m Fb\u001b[38;5;241m.\u001b[39muser_id\n\u001b[1;32m---> 12\u001b[0m Fb\u001b[38;5;241m.\u001b[39muser_id \u001b[38;5;241m=\u001b[39m \u001b[43mFb\u001b[49m\u001b[38;5;241;43m.\u001b[39;49m\u001b[43muser_id\u001b[49m\u001b[43m \u001b[49m\u001b[38;5;241;43m+\u001b[39;49m\u001b[43m \u001b[49m\u001b[38;5;241;43m1\u001b[39;49m\n",
      "\u001b[1;31mTypeError\u001b[0m: can only concatenate str (not \"int\") to str"
     ]
    }
   ],
   "source": [
    "st3 = Fb()"
   ]
  },
  {
   "cell_type": "code",
   "execution_count": 13,
   "id": "976cec94-45e4-4a63-b572-c0c9f38a8999",
   "metadata": {},
   "outputs": [],
   "source": [
    "# solution of upper error is we make private our class variable"
   ]
  },
  {
   "cell_type": "code",
   "execution_count": 21,
   "id": "e9b6da24-e203-46ac-86b7-75d526598d37",
   "metadata": {},
   "outputs": [
    {
     "data": {
      "text/plain": [
       "0"
      ]
     },
     "execution_count": 21,
     "metadata": {},
     "output_type": "execute_result"
    }
   ],
   "source": [
    "st1.id"
   ]
  },
  {
   "cell_type": "code",
   "execution_count": 22,
   "id": "1723ddf5-4e0b-488c-868b-3f198ebc1b02",
   "metadata": {},
   "outputs": [],
   "source": [
    "Fb.user_id = \"gfdh\""
   ]
  },
  {
   "cell_type": "code",
   "execution_count": 23,
   "id": "1c95daea-e8ee-4b03-9d0d-cf5f537e0900",
   "metadata": {},
   "outputs": [],
   "source": [
    "st2 = Fb()"
   ]
  },
  {
   "cell_type": "code",
   "execution_count": 39,
   "id": "78424954-dfc0-4981-88d8-ac3df47f1184",
   "metadata": {},
   "outputs": [
    {
     "data": {
      "text/plain": [
       "1"
      ]
     },
     "execution_count": 39,
     "metadata": {},
     "output_type": "execute_result"
    }
   ],
   "source": [
    "st2.id"
   ]
  },
  {
   "cell_type": "code",
   "execution_count": 40,
   "id": "57084d5a-ea34-47a9-b2fa-488a04042e4a",
   "metadata": {},
   "outputs": [
    {
     "name": "stdout",
     "output_type": "stream",
     "text": [
      "3\n"
     ]
    }
   ],
   "source": [
    "st1.getid()"
   ]
  },
  {
   "cell_type": "code",
   "execution_count": 41,
   "id": "e346bff5-cf59-44e5-8662-d3a0af7d40e6",
   "metadata": {},
   "outputs": [
    {
     "name": "stdout",
     "output_type": "stream",
     "text": [
      "value is changed\n"
     ]
    }
   ],
   "source": [
    "st1.setid(5)"
   ]
  },
  {
   "cell_type": "code",
   "execution_count": 42,
   "id": "87b06626-dbd4-4ba7-adc3-580ce5de1cc9",
   "metadata": {},
   "outputs": [
    {
     "name": "stdout",
     "output_type": "stream",
     "text": [
      "5\n"
     ]
    }
   ],
   "source": [
    "st1.getid()"
   ]
  },
  {
   "cell_type": "code",
   "execution_count": null,
   "id": "19593964-a29e-489f-90ac-c1c4a1325fdd",
   "metadata": {},
   "outputs": [],
   "source": []
  }
 ],
 "metadata": {
  "kernelspec": {
   "display_name": "Python 3 (ipykernel)",
   "language": "python",
   "name": "python3"
  },
  "language_info": {
   "codemirror_mode": {
    "name": "ipython",
    "version": 3
   },
   "file_extension": ".py",
   "mimetype": "text/x-python",
   "name": "python",
   "nbconvert_exporter": "python",
   "pygments_lexer": "ipython3",
   "version": "3.10.7"
  }
 },
 "nbformat": 4,
 "nbformat_minor": 5
}
