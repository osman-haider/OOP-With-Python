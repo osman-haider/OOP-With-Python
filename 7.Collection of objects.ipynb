{
 "cells": [
  {
   "cell_type": "code",
   "execution_count": 8,
   "id": "35f0a0dd-cc70-488e-8e51-5d06c73b5cda",
   "metadata": {},
   "outputs": [],
   "source": [
    "class Customer:\n",
    "    def __init__(self,name,age):\n",
    "        self.name = name\n",
    "        self.age = age\n",
    "\n",
    "    def intro(self):\n",
    "        print(f\"hi {self.name}, your age is {self.age}\")"
   ]
  },
  {
   "cell_type": "code",
   "execution_count": 9,
   "id": "b4c64be2-4fbd-4107-a4ef-56f528896508",
   "metadata": {},
   "outputs": [],
   "source": [
    "c1 = Customer(\"usman\",12)\n",
    "c2 = Customer(\"haider\",24)\n",
    "c3 = Customer(\"krish\",34)"
   ]
  },
  {
   "cell_type": "code",
   "execution_count": 10,
   "id": "24a29411-94fa-4871-9a62-d0fd316f0f8c",
   "metadata": {},
   "outputs": [],
   "source": [
    "l = [c1,c2,c3]"
   ]
  },
  {
   "cell_type": "code",
   "execution_count": 11,
   "id": "53a2e6c5-f429-40ec-9b84-5a7cc8361a87",
   "metadata": {},
   "outputs": [
    {
     "name": "stdout",
     "output_type": "stream",
     "text": [
      "<__main__.Customer object at 0x000001FF7106A620>\n",
      "<__main__.Customer object at 0x000001FF70C55600>\n",
      "<__main__.Customer object at 0x000001FF7106BCA0>\n"
     ]
    }
   ],
   "source": [
    "for i in l:\n",
    "    print(i)"
   ]
  },
  {
   "cell_type": "code",
   "execution_count": 12,
   "id": "2082edca-556d-42c0-bbc5-f5f1f9ad5398",
   "metadata": {},
   "outputs": [
    {
     "name": "stdout",
     "output_type": "stream",
     "text": [
      "usman : 12\n",
      "haider : 24\n",
      "krish : 34\n"
     ]
    }
   ],
   "source": [
    "for i in l:\n",
    "    print(i.name,\":\",i.age)"
   ]
  },
  {
   "cell_type": "code",
   "execution_count": 13,
   "id": "48267a60-2d68-47c7-b34f-6184cbd696ce",
   "metadata": {},
   "outputs": [
    {
     "name": "stdout",
     "output_type": "stream",
     "text": [
      "hi usman, your age is 12\n",
      "hi haider, your age is 24\n",
      "hi krish, your age is 34\n"
     ]
    }
   ],
   "source": [
    "for i in l:\n",
    "    i.intro()"
   ]
  },
  {
   "cell_type": "code",
   "execution_count": null,
   "id": "93406086-b220-44a4-93eb-eff2349a0a8d",
   "metadata": {},
   "outputs": [],
   "source": []
  }
 ],
 "metadata": {
  "kernelspec": {
   "display_name": "Python 3 (ipykernel)",
   "language": "python",
   "name": "python3"
  },
  "language_info": {
   "codemirror_mode": {
    "name": "ipython",
    "version": 3
   },
   "file_extension": ".py",
   "mimetype": "text/x-python",
   "name": "python",
   "nbconvert_exporter": "python",
   "pygments_lexer": "ipython3",
   "version": "3.10.7"
  }
 },
 "nbformat": 4,
 "nbformat_minor": 5
}
