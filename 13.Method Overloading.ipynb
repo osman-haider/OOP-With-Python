{
 "cells": [
  {
   "cell_type": "markdown",
   "id": "48283f40-783c-4be0-9795-2edf5ce7a1df",
   "metadata": {},
   "source": [
    "## In python method overloading is not working"
   ]
  },
  {
   "cell_type": "code",
   "execution_count": 1,
   "id": "482b4c33-e597-478e-b31e-948535784870",
   "metadata": {},
   "outputs": [],
   "source": [
    "class Geometry:\n",
    "    def area(self,radius):\n",
    "        return 3.14 * radius * radius\n",
    "    def area(self,l,b):\n",
    "        return l*b"
   ]
  },
  {
   "cell_type": "code",
   "execution_count": 2,
   "id": "3c2f82fd-ca96-43cb-aafa-394c4418ec24",
   "metadata": {},
   "outputs": [],
   "source": [
    "obj = Geometry()"
   ]
  },
  {
   "cell_type": "code",
   "execution_count": 3,
   "id": "04d79db7-e101-46b2-a15f-c665cdac5cd2",
   "metadata": {},
   "outputs": [
    {
     "ename": "TypeError",
     "evalue": "Geometry.area() missing 1 required positional argument: 'b'",
     "output_type": "error",
     "traceback": [
      "\u001b[1;31m---------------------------------------------------------------------------\u001b[0m",
      "\u001b[1;31mTypeError\u001b[0m                                 Traceback (most recent call last)",
      "Cell \u001b[1;32mIn[3], line 1\u001b[0m\n\u001b[1;32m----> 1\u001b[0m \u001b[43mobj\u001b[49m\u001b[38;5;241;43m.\u001b[39;49m\u001b[43marea\u001b[49m\u001b[43m(\u001b[49m\u001b[38;5;241;43m5\u001b[39;49m\u001b[43m)\u001b[49m\n",
      "\u001b[1;31mTypeError\u001b[0m: Geometry.area() missing 1 required positional argument: 'b'"
     ]
    }
   ],
   "source": [
    "obj.area(5)"
   ]
  },
  {
   "cell_type": "markdown",
   "id": "f25b7055-e6f4-48fb-bbea-808f62b06c46",
   "metadata": {},
   "source": [
    "## but we can achive this like follows"
   ]
  },
  {
   "cell_type": "code",
   "execution_count": 16,
   "id": "d948b399-e8a5-490b-b3b0-7435f9f890ee",
   "metadata": {},
   "outputs": [],
   "source": [
    "class Geometry:\n",
    "    def area(self,a,b=0):\n",
    "        if b==0:\n",
    "            print(\"Circle\",3.14 * a * a)\n",
    "        else:\n",
    "            print(\"Rect\", a*b)"
   ]
  },
  {
   "cell_type": "code",
   "execution_count": 17,
   "id": "46542f05-edd6-4a6b-946a-c2a1e228c045",
   "metadata": {},
   "outputs": [],
   "source": [
    "obj2 = Geometry()"
   ]
  },
  {
   "cell_type": "code",
   "execution_count": 18,
   "id": "51aaf5d4-9bbd-45e1-9956-d6044d92fe66",
   "metadata": {},
   "outputs": [
    {
     "name": "stdout",
     "output_type": "stream",
     "text": [
      "Circle 78.5\n"
     ]
    }
   ],
   "source": [
    "obj2.area(5)"
   ]
  },
  {
   "cell_type": "code",
   "execution_count": 19,
   "id": "2d302ef1-f946-402b-997a-6ff548b099a6",
   "metadata": {},
   "outputs": [
    {
     "name": "stdout",
     "output_type": "stream",
     "text": [
      "Rect 20\n"
     ]
    }
   ],
   "source": [
    "obj2.area(4,5)"
   ]
  },
  {
   "cell_type": "code",
   "execution_count": null,
   "id": "79f9676e-dfdb-4456-80a6-45faf1e3931f",
   "metadata": {},
   "outputs": [],
   "source": []
  }
 ],
 "metadata": {
  "kernelspec": {
   "display_name": "Python 3 (ipykernel)",
   "language": "python",
   "name": "python3"
  },
  "language_info": {
   "codemirror_mode": {
    "name": "ipython",
    "version": 3
   },
   "file_extension": ".py",
   "mimetype": "text/x-python",
   "name": "python",
   "nbconvert_exporter": "python",
   "pygments_lexer": "ipython3",
   "version": "3.10.7"
  }
 },
 "nbformat": 4,
 "nbformat_minor": 5
}
